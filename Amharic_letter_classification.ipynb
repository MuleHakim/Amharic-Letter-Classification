{
  "cells": [
    {
      "cell_type": "markdown",
      "metadata": {
        "id": "view-in-github",
        "colab_type": "text"
      },
      "source": [
        "<a href=\"https://colab.research.google.com/github/MuleHakim/Amharic-Letter-Classification/blob/main/Amharic_letter_classification.ipynb\" target=\"_parent\"><img src=\"https://colab.research.google.com/assets/colab-badge.svg\" alt=\"Open In Colab\"/></a>"
      ]
    },
    {
      "cell_type": "markdown",
      "source": [
        "# Amharic Letter Classification"
      ],
      "metadata": {
        "id": "hR2-mnKpQsFc"
      }
    },
    {
      "cell_type": "code",
      "execution_count": 245,
      "metadata": {
        "id": "JnJsN3KcXXy3"
      },
      "outputs": [],
      "source": [
        "\"\"\"\n",
        "Sets up the foundation for a PyTorch image classification model.\n",
        "Imports necessary libraries for dataset handling and model training.\n",
        "\"\"\"\n",
        "\n",
        "import os\n",
        "import numpy as np\n",
        "from sklearn.model_selection import train_test_split\n",
        "from torchvision import transforms\n",
        "import matplotlib.pyplot as plt\n",
        "import torch\n",
        "from torch import nn, optim\n",
        "import torch.nn as nn\n",
        "import torch.nn.functional as F\n",
        "from torchvision.datasets import ImageFolder\n",
        "from torch.utils.data import Dataset, DataLoader"
      ]
    },
    {
      "cell_type": "code",
      "execution_count": 203,
      "metadata": {
        "id": "vhqhtBzAUpiv"
      },
      "outputs": [],
      "source": [
        "\"\"\"\n",
        "Defines a custom dataset class (MyDataset) for Amharic letter classification.\n",
        "\n",
        "Parameters:\n",
        "- folder_path: The path to the folder containing the dataset.\n",
        "- transform: Optional image transformation to be applied.\n",
        "\"\"\"\n",
        "\n",
        "class MyDataset(Dataset):\n",
        "    def __init__(self, folder_path, transform=None):\n",
        "        self.folder_path = folder_path\n",
        "        self.transform = transform\n",
        "        self.image_folder = ImageFolder(folder_path, transform=self.transform)\n",
        "\n",
        "    def __len__(self):\n",
        "        return len(self.image_folder)\n",
        "\n",
        "    def __getitem__(self, idx):\n",
        "        img, label = self.image_folder[idx]\n",
        "        one_hot_label = torch.zeros(20)\n",
        "        one_hot_label[label] = 1\n",
        "        return img, one_hot_label"
      ]
    },
    {
      "cell_type": "code",
      "execution_count": 204,
      "metadata": {
        "id": "1hC-SVGNWVKw"
      },
      "outputs": [],
      "source": [
        "# Specify the path to the dataset folder\n",
        "dataset_path = '/content/drive/MyDrive/amharic_datasets'"
      ]
    },
    {
      "cell_type": "code",
      "execution_count": 205,
      "metadata": {
        "id": "PhQpoi0tGm2n"
      },
      "outputs": [],
      "source": [
        "\"\"\"\n",
        "Defines a sequence of image transformations using torchvision.transforms.Compose.\n",
        "\n",
        "Transformations:\n",
        "- Resize images to (28, 28) pixels.\n",
        "- Convert images to PyTorch tensors.\n",
        "\"\"\"\n",
        "\n",
        "data_transform = transforms.Compose([\n",
        "    transforms.Resize((28, 28)),\n",
        "    transforms.ToTensor(),\n",
        "])"
      ]
    },
    {
      "cell_type": "code",
      "execution_count": 206,
      "metadata": {
        "id": "MwuzEpyRGnYo"
      },
      "outputs": [],
      "source": [
        "# Create an instance of the custom dataset using the specified path and transformations\n",
        "dataset = MyDataset(folder_path=dataset_path, transform=data_transform)"
      ]
    },
    {
      "cell_type": "code",
      "execution_count": 207,
      "metadata": {
        "colab": {
          "base_uri": "https://localhost:8080/"
        },
        "id": "IgsGgydwTDD9",
        "outputId": "db406ad9-9e02-4472-a832-7afc7e09e87a"
      },
      "outputs": [
        {
          "output_type": "execute_result",
          "data": {
            "text/plain": [
              "<__main__.MyDataset at 0x7d962a2a5930>"
            ]
          },
          "metadata": {},
          "execution_count": 207
        }
      ],
      "source": [
        "dataset"
      ]
    },
    {
      "cell_type": "code",
      "execution_count": 208,
      "metadata": {
        "id": "mOj1D7mVGqDF"
      },
      "outputs": [],
      "source": [
        "\"\"\"\n",
        "Splits the dataset into training and testing sets using torch.utils.data.random_split.\n",
        "\n",
        "Parameters:\n",
        "- train_size: Percentage of data to be used for training (80%).\n",
        "- test_size: Percentage of data to be used for testing (20%).\n",
        "\"\"\"\n",
        "\n",
        "train_size = int(0.8 * len(dataset))\n",
        "test_size = len(dataset) - train_size\n",
        "train_dataset, test_dataset = torch.utils.data.random_split(dataset, [train_size, test_size])"
      ]
    },
    {
      "cell_type": "code",
      "execution_count": 209,
      "metadata": {
        "id": "dvCY8PCwGvkG"
      },
      "outputs": [],
      "source": [
        "# Create data loaders\n",
        "train_loader = DataLoader(train_dataset, batch_size=20, shuffle=True)\n",
        "test_loader = DataLoader(test_dataset, batch_size=20, shuffle=False)"
      ]
    },
    {
      "cell_type": "code",
      "execution_count": 210,
      "metadata": {
        "colab": {
          "base_uri": "https://localhost:8080/"
        },
        "id": "CB41l2LBGx4A",
        "outputId": "1e7d7d83-d0ce-4d38-ce5f-a4375dfef3d9"
      },
      "outputs": [
        {
          "output_type": "stream",
          "name": "stdout",
          "text": [
            "Train dataset size: 3600\n",
            "Test dataset size: 900\n"
          ]
        }
      ],
      "source": [
        "# Prints the sizes of the training and testing datasets\n",
        "\n",
        "print(\"Train dataset size:\", len(train_dataset))\n",
        "print(\"Test dataset size:\", len(test_dataset))"
      ]
    },
    {
      "cell_type": "code",
      "execution_count": 210,
      "metadata": {
        "id": "h78S5fzrKvEG"
      },
      "outputs": [],
      "source": []
    },
    {
      "cell_type": "code",
      "execution_count": 210,
      "metadata": {
        "id": "FhO2XNwHXLJ2"
      },
      "outputs": [],
      "source": []
    },
    {
      "cell_type": "code",
      "execution_count": 211,
      "metadata": {
        "id": "AeGiHsogbFpG"
      },
      "outputs": [],
      "source": [
        "# Create an iterator for the training DataLoader and retrieve the first batch\n",
        "data_train = iter(train_loader)\n",
        "images, labels = next(data_train)\n"
      ]
    },
    {
      "cell_type": "code",
      "source": [
        "# Print the shapes of the images and labels in the batch\n",
        "print(\"Batch of Images shape:\", images.shape)\n",
        "print(\"Batch of Labels shape:\", labels.shape)"
      ],
      "metadata": {
        "colab": {
          "base_uri": "https://localhost:8080/"
        },
        "id": "xAsJf6VyLL8S",
        "outputId": "c6ea4497-db7a-4f80-cc87-e57fb0b28408"
      },
      "execution_count": 212,
      "outputs": [
        {
          "output_type": "stream",
          "name": "stdout",
          "text": [
            "Batch of Images shape: torch.Size([20, 3, 28, 28])\n",
            "Batch of Labels shape: torch.Size([20, 20])\n"
          ]
        }
      ]
    },
    {
      "cell_type": "code",
      "execution_count": 213,
      "metadata": {
        "colab": {
          "base_uri": "https://localhost:8080/",
          "height": 447
        },
        "id": "g14ql_9Iu7lw",
        "outputId": "7a575e42-dde4-461d-f1d2-5089a898506b"
      },
      "outputs": [
        {
          "output_type": "execute_result",
          "data": {
            "text/plain": [
              "<matplotlib.image.AxesImage at 0x7d962985eda0>"
            ]
          },
          "metadata": {},
          "execution_count": 213
        },
        {
          "output_type": "display_data",
          "data": {
            "text/plain": [
              "<Figure size 640x480 with 1 Axes>"
            ],
            "image/png": "[encoded data removed]"
          },
          "metadata": {}
        }
      ],
      "source": [
        "# Displays the random letter(image) in the batch using matplotlib\n",
        "\n",
        "plt.imshow(images[6].permute(1, 2, 0).numpy(), cmap='gray_r')"
      ]
    },
    {
      "cell_type": "code",
      "execution_count": 213,
      "metadata": {
        "id": "xfzgJF0QxaWW"
      },
      "outputs": [],
      "source": []
    },
    {
      "cell_type": "code",
      "execution_count": 214,
      "metadata": {
        "id": "_wjhi8_wxaZW"
      },
      "outputs": [],
      "source": [
        "# Defines a list of class labels corresponding to the dataset classes\n",
        "\n",
        "classes = [\n",
        "    'ሀ', 'ለ', 'መ', 'ረ', 'ሰ', 'ሸ', 'ቀ', 'በ', 'ተ', 'ቸ',\n",
        "    'ነ', 'ከ', 'ዐ',  'ዘ', 'የ', 'ደ', 'ገ', 'ጠ', 'ፀ', 'ፐ'\n",
        "]"
      ]
    },
    {
      "cell_type": "code",
      "execution_count": 27,
      "metadata": {
        "id": "A5qSRm6IxblJ"
      },
      "outputs": [],
      "source": []
    },
    {
      "cell_type": "code",
      "execution_count": 217,
      "metadata": {
        "id": "1si7jU_xu8xq"
      },
      "outputs": [],
      "source": [
        "# Defines a function to plot a sample image with its corresponding class label\n",
        "\n",
        "def plot_sample(index):\n",
        "      plt.imshow(images[index].permute(1, 2, 0).numpy(), cmap='gray_r')\n",
        "      # plt.xlabel(classes[np.argmax(labels[index])])"
      ]
    },
    {
      "cell_type": "code",
      "execution_count": 218,
      "metadata": {
        "colab": {
          "base_uri": "https://localhost:8080/",
          "height": 430
        },
        "id": "2QfhlxTgv_Nl",
        "outputId": "14260c87-e10f-4f9d-a103-a61f738f09d8"
      },
      "outputs": [
        {
          "output_type": "display_data",
          "data": {
            "text/plain": [
              "<Figure size 640x480 with 1 Axes>"
            ],
            "image/png": "[encoded data removed]"
          },
          "metadata": {}
        }
      ],
      "source": [
        "# Plots a sample image with its corresponding class label for the specified index\n",
        "\n",
        "plot_sample(1)"
      ]
    },
    {
      "cell_type": "code",
      "execution_count": 220,
      "metadata": {
        "colab": {
          "base_uri": "https://localhost:8080/",
          "height": 430
        },
        "id": "WP01V6hOv_QG",
        "outputId": "aa85466a-f689-421f-c040-f1d61968dd80"
      },
      "outputs": [
        {
          "output_type": "display_data",
          "data": {
            "text/plain": [
              "<Figure size 640x480 with 1 Axes>"
            ],
            "image/png": "[encoded data removed]"
          },
          "metadata": {}
        }
      ],
      "source": [
        "plot_sample(14)"
      ]
    },
    {
      "cell_type": "code",
      "execution_count": 221,
      "metadata": {
        "colab": {
          "base_uri": "https://localhost:8080/",
          "height": 430
        },
        "id": "Evf_V6KwwUnj",
        "outputId": "cac8a95e-f8a1-4cba-adea-5c7bcff8735e"
      },
      "outputs": [
        {
          "output_type": "display_data",
          "data": {
            "text/plain": [
              "<Figure size 640x480 with 1 Axes>"
            ],
            "image/png": "[encoded data removed]"
          },
          "metadata": {}
        }
      ],
      "source": [
        "plot_sample(9)"
      ]
    },
    {
      "cell_type": "code",
      "execution_count": 223,
      "metadata": {
        "id": "vKiYXpfn3GMh",
        "colab": {
          "base_uri": "https://localhost:8080/",
          "height": 430
        },
        "outputId": "4d75721f-2a97-4000-b273-0a688ea6e48b"
      },
      "outputs": [
        {
          "output_type": "display_data",
          "data": {
            "text/plain": [
              "<Figure size 640x480 with 1 Axes>"
            ],
            "image/png": "[encoded data removed]"
          },
          "metadata": {}
        }
      ],
      "source": [
        "plot_sample(18)"
      ]
    },
    {
      "cell_type": "code",
      "execution_count": 31,
      "metadata": {
        "id": "qV2jLMg23GOx"
      },
      "outputs": [],
      "source": []
    },
    {
      "cell_type": "code",
      "execution_count": 224,
      "metadata": {
        "colab": {
          "base_uri": "https://localhost:8080/",
          "height": 406
        },
        "id": "t0oJ2qoTvm5X",
        "outputId": "3239ae29-b4db-4cb3-b70c-ddc4c1ccb7ba"
      },
      "outputs": [
        {
          "output_type": "display_data",
          "data": {
            "text/plain": [
              "<Figure size 640x480 with 20 Axes>"
            ],
            "image/png": "[encoded data removed]"
          },
          "metadata": {}
        }
      ],
      "source": [
        "# Plots a grid of sample images with no axis labels for the specified number of images (20)\n",
        "\n",
        "num_of_images = 20\n",
        "for index in range(num_of_images):\n",
        "    plt.subplot(5, 4, index+1)\n",
        "    plt.axis('off')\n",
        "    plt.imshow(images[index].permute(1, 2, 0).numpy(), cmap='gray_r')"
      ]
    },
    {
      "cell_type": "code",
      "execution_count": 225,
      "metadata": {
        "id": "GecnqbQo9XIX"
      },
      "outputs": [],
      "source": [
        "# Iterates through the training dataset to get the first batch\n",
        "\n",
        "for batch in train_dataset:\n",
        "    x_train, y_train = batch\n",
        "    break"
      ]
    },
    {
      "cell_type": "code",
      "execution_count": 226,
      "metadata": {
        "id": "QEwkBIRA9YkN"
      },
      "outputs": [],
      "source": [
        "# Iterates through the testing dataset to get the first batch\n",
        "\n",
        "for batch in test_dataset:\n",
        "    x_test, y_test = batch\n",
        "    break"
      ]
    },
    {
      "cell_type": "code",
      "execution_count": 227,
      "metadata": {
        "colab": {
          "base_uri": "https://localhost:8080/"
        },
        "id": "tVzZGQN59ZyX",
        "outputId": "d0432e96-1e7e-4ab5-8110-e36c1ade3afc"
      },
      "outputs": [
        {
          "output_type": "stream",
          "name": "stdout",
          "text": [
            "x_train shape: torch.Size([3, 28, 28])\n",
            "y_train shape: torch.Size([20])\n",
            "x_test shape: torch.Size([3, 28, 28])\n",
            "y_test shape: torch.Size([20])\n"
          ]
        }
      ],
      "source": [
        "# Prints the shapes of the loaded training and testing datasets\n",
        "\n",
        "print(\"x_train shape:\", x_train.shape)\n",
        "print(\"y_train shape:\", y_train.shape)\n",
        "print(\"x_test shape:\", x_test.shape)\n",
        "print(\"y_test shape:\", y_test.shape)"
      ]
    },
    {
      "cell_type": "code",
      "execution_count": 228,
      "metadata": {
        "id": "MjYYvy5D9a2q"
      },
      "outputs": [],
      "source": [
        "# Define our CNN model\n",
        "# Describe convolutional layer\n",
        "# This is just an example of how to build the model. I will build the actual model next.\n",
        "conv1 = nn.Conv2d(3,6,3,1)\n",
        "conv2 = nn.Conv2d(6,16,3,1)"
      ]
    },
    {
      "cell_type": "code",
      "execution_count": 229,
      "metadata": {
        "colab": {
          "base_uri": "https://localhost:8080/"
        },
        "id": "gJUWyDFB9gAG",
        "outputId": "e2ccc809-8764-46bc-bac6-efff579d9d07"
      },
      "outputs": [
        {
          "output_type": "execute_result",
          "data": {
            "text/plain": [
              "tensor([[[1., 1., 1.,  ..., 1., 1., 1.],\n",
              "         [1., 1., 1.,  ..., 1., 1., 1.],\n",
              "         [1., 1., 1.,  ..., 1., 1., 1.],\n",
              "         ...,\n",
              "         [1., 1., 1.,  ..., 1., 1., 1.],\n",
              "         [1., 1., 1.,  ..., 1., 1., 1.],\n",
              "         [1., 1., 1.,  ..., 1., 1., 1.]],\n",
              "\n",
              "        [[1., 1., 1.,  ..., 1., 1., 1.],\n",
              "         [1., 1., 1.,  ..., 1., 1., 1.],\n",
              "         [1., 1., 1.,  ..., 1., 1., 1.],\n",
              "         ...,\n",
              "         [1., 1., 1.,  ..., 1., 1., 1.],\n",
              "         [1., 1., 1.,  ..., 1., 1., 1.],\n",
              "         [1., 1., 1.,  ..., 1., 1., 1.]],\n",
              "\n",
              "        [[1., 1., 1.,  ..., 1., 1., 1.],\n",
              "         [1., 1., 1.,  ..., 1., 1., 1.],\n",
              "         [1., 1., 1.,  ..., 1., 1., 1.],\n",
              "         ...,\n",
              "         [1., 1., 1.,  ..., 1., 1., 1.],\n",
              "         [1., 1., 1.,  ..., 1., 1., 1.],\n",
              "         [1., 1., 1.,  ..., 1., 1., 1.]]])"
            ]
          },
          "metadata": {},
          "execution_count": 229
        }
      ],
      "source": [
        "# 'x_train' contains the data from the first batch of the training dataset\n",
        "\n",
        "x_train"
      ]
    },
    {
      "cell_type": "code",
      "execution_count": 230,
      "metadata": {
        "id": "Ciya7_7w80S7"
      },
      "outputs": [],
      "source": [
        "x = x_train.view(1,3,28,28)"
      ]
    },
    {
      "cell_type": "code",
      "execution_count": 231,
      "metadata": {
        "id": "5cjybcuU80U_"
      },
      "outputs": [],
      "source": [
        "# Perform our first convolution\n",
        "x = F.relu(conv1(x)) # Rectified Linear Unit for our activation function"
      ]
    },
    {
      "cell_type": "code",
      "execution_count": 232,
      "metadata": {
        "colab": {
          "base_uri": "https://localhost:8080/"
        },
        "id": "GptVZ0yC9JLZ",
        "outputId": "9c9c2bdd-bc25-462c-d747-7e7c85b9fde4"
      },
      "outputs": [
        {
          "output_type": "execute_result",
          "data": {
            "text/plain": [
              "torch.Size([1, 6, 26, 26])"
            ]
          },
          "metadata": {},
          "execution_count": 232
        }
      ],
      "source": [
        "# 1 single image, 6 is the filters, 26x26\n",
        "x.shape # We didn't set padding so we lose 2 pixels around outside of the image"
      ]
    },
    {
      "cell_type": "code",
      "execution_count": 233,
      "metadata": {
        "id": "2vvEOtc0-44K"
      },
      "outputs": [],
      "source": [
        "# pass thru the pooling layer\n",
        "x = F.max_pool2d(x,2,2)   # kernel of 2 and stride of 2"
      ]
    },
    {
      "cell_type": "code",
      "execution_count": 234,
      "metadata": {
        "colab": {
          "base_uri": "https://localhost:8080/"
        },
        "id": "ScZJmNkx-5Sa",
        "outputId": "e6c4d9ca-e1e9-4bb1-919e-aebc6e27536c"
      },
      "outputs": [
        {
          "output_type": "execute_result",
          "data": {
            "text/plain": [
              "torch.Size([1, 6, 13, 13])"
            ]
          },
          "metadata": {},
          "execution_count": 234
        }
      ],
      "source": [
        "x.shape  # 26 / 2 =13"
      ]
    },
    {
      "cell_type": "code",
      "execution_count": 235,
      "metadata": {
        "id": "43tRdFQp-7iA"
      },
      "outputs": [],
      "source": [
        "# Do our second convolutional layer\n",
        "x = F.relu(conv2(x))"
      ]
    },
    {
      "cell_type": "code",
      "execution_count": 236,
      "metadata": {
        "colab": {
          "base_uri": "https://localhost:8080/"
        },
        "id": "lz3HIsS5--Nj",
        "outputId": "5cb324cd-333b-4262-ec45-eaad47a14711"
      },
      "outputs": [
        {
          "output_type": "execute_result",
          "data": {
            "text/plain": [
              "torch.Size([1, 16, 11, 11])"
            ]
          },
          "metadata": {},
          "execution_count": 236
        }
      ],
      "source": [
        "x.shape # Again we didn't set padding so we lose 2 pixels around outside of the image\n"
      ]
    },
    {
      "cell_type": "code",
      "execution_count": 237,
      "metadata": {
        "id": "bo9MjBhq_A10"
      },
      "outputs": [],
      "source": [
        "# Pooling layer\n",
        "x = F.max_pool2d(x,2,2)   # kernel of 2 and stride of 2"
      ]
    },
    {
      "cell_type": "code",
      "execution_count": 238,
      "metadata": {
        "colab": {
          "base_uri": "https://localhost:8080/"
        },
        "id": "ytzx4sWp_DnG",
        "outputId": "d8891181-2371-40f1-b947-8d0e94ca67a9"
      },
      "outputs": [
        {
          "output_type": "execute_result",
          "data": {
            "text/plain": [
              "torch.Size([1, 16, 5, 5])"
            ]
          },
          "metadata": {},
          "execution_count": 238
        }
      ],
      "source": [
        "x.shape    # 11 / 2 = 5.5 but we have to round down, because you can't invent data to round up\n"
      ]
    },
    {
      "cell_type": "code",
      "execution_count": null,
      "metadata": {
        "id": "YGb5MDAP_GII"
      },
      "outputs": [],
      "source": []
    },
    {
      "cell_type": "code",
      "execution_count": 239,
      "metadata": {
        "id": "9R1X0_vK4ibC"
      },
      "outputs": [],
      "source": [
        "\"\"\"\n",
        "Defines a concise convolutional neural network model (Model) for Amharic letter classification.\n",
        "\"\"\"\n",
        "\n",
        "# Model class\n",
        "class Model(nn.Module):\n",
        "    def __init__(self,num_classes = 20):\n",
        "        super().__init__()\n",
        "        self.conv1 = nn.Conv2d(3, 6, kernel_size=3, stride=1)\n",
        "        self.pool1 = nn.MaxPool2d(kernel_size=2, stride=2)\n",
        "        self.conv2 = nn.Conv2d(6, 16, kernel_size=3, stride=1)\n",
        "        self.pool2 = nn.MaxPool2d(kernel_size=2, stride=2)\n",
        "        self.fc1 = nn.Linear(16 * 5 * 5, 128)\n",
        "        self.fc2 = nn.Linear(128, 64)\n",
        "        self.fc3 = nn.Linear(64, num_classes)\n",
        "\n",
        "    def forward(self, x):\n",
        "        # First pass\n",
        "        x = F.relu(self.conv1(x))\n",
        "        x = self.pool1(x)\n",
        "\n",
        "        # Second pass\n",
        "        x = F.relu(self.conv2(x))\n",
        "        x = self.pool2(x)\n",
        "\n",
        "        # Review to flatten it out\n",
        "        x = x.view(-1, 16*5*5) # -1 so that we can  vary the batch size\n",
        "\n",
        "        # Fully connected layers\n",
        "        x = F.relu(self.fc1(x))\n",
        "        x = F.relu(self.fc2(x))\n",
        "        x = self.fc3(x)\n",
        "\n",
        "        return F.log_softmax(x,dim=1)\n"
      ]
    },
    {
      "cell_type": "code",
      "execution_count": 242,
      "metadata": {
        "colab": {
          "base_uri": "https://localhost:8080/"
        },
        "id": "X0TI0kjO4kN2",
        "outputId": "ff327dcf-408f-4489-fdf8-554263c95646"
      },
      "outputs": [
        {
          "output_type": "stream",
          "name": "stdout",
          "text": [
            "Model(\n",
            "  (conv1): Conv2d(3, 6, kernel_size=(3, 3), stride=(1, 1))\n",
            "  (pool1): MaxPool2d(kernel_size=2, stride=2, padding=0, dilation=1, ceil_mode=False)\n",
            "  (conv2): Conv2d(6, 16, kernel_size=(3, 3), stride=(1, 1))\n",
            "  (pool2): MaxPool2d(kernel_size=2, stride=2, padding=0, dilation=1, ceil_mode=False)\n",
            "  (fc1): Linear(in_features=400, out_features=128, bias=True)\n",
            "  (fc2): Linear(in_features=128, out_features=64, bias=True)\n",
            "  (fc3): Linear(in_features=64, out_features=20, bias=True)\n",
            ")\n"
          ]
        }
      ],
      "source": [
        "\"\"\"\n",
        "Sets a manual seed for reproducibility and instantiates the defined model (Model) with 20 classes.\n",
        "Prints the architecture of the model.\n",
        "\"\"\"\n",
        "\n",
        "torch.manual_seed(97)\n",
        "\n",
        "# Instantiate the model\n",
        "model = Model(num_classes=20)\n",
        "\n",
        "# Print the model architecture\n",
        "print(model)\n"
      ]
    },
    {
      "cell_type": "code",
      "source": [
        "# Saves the model's state_dict to a file named 'amharic_letter_classification_model.pth'\n",
        "\n",
        "torch.save(model.state_dict(), 'amharic_letter_classification_model.pth')"
      ],
      "metadata": {
        "id": "x-7VY3JQP9Jr"
      },
      "execution_count": 246,
      "outputs": []
    },
    {
      "cell_type": "code",
      "execution_count": 247,
      "metadata": {
        "id": "S8MSRy8Y4qXQ"
      },
      "outputs": [],
      "source": [
        "\"\"\"\n",
        "Defines the loss function (CrossEntropyLoss) and optimizer (Adam) for training the model.\n",
        "\n",
        "Parameters:\n",
        "- Loss function: CrossEntropyLoss.\n",
        "- Optimizer: Adam with a learning rate of 0.01.\n",
        "\"\"\"\n",
        "\n",
        "criterion = nn.CrossEntropyLoss()\n",
        "optimizer = optim.Adam(model.parameters(),lr=0.01)"
      ]
    },
    {
      "cell_type": "code",
      "execution_count": 247,
      "metadata": {
        "id": "UFvzNlR6CoJ5"
      },
      "outputs": [],
      "source": [
        "\n"
      ]
    },
    {
      "cell_type": "code",
      "execution_count": 248,
      "metadata": {
        "colab": {
          "base_uri": "https://localhost:8080/"
        },
        "id": "s2mMBm2WC7xh",
        "outputId": "3ced72bb-51a3-4b18-ed50-53a11a011e99"
      },
      "outputs": [
        {
          "output_type": "stream",
          "name": "stdout",
          "text": [
            "Epoch 1, Batch 50, Loss: 3.0339\n",
            "Epoch 1, Batch 100, Loss: 2.0784\n",
            "Epoch 1, Batch 150, Loss: 1.7607\n",
            "Epoch 1, Training Accuracy: 22.44 % , Test Accuracy: 48.33 %\n",
            "Epoch 2, Batch 50, Loss: 1.3870\n",
            "Epoch 2, Batch 100, Loss: 1.4296\n",
            "Epoch 2, Batch 150, Loss: 0.6555\n",
            "Epoch 2, Training Accuracy: 58.00 % , Test Accuracy: 65.33 %\n",
            "Epoch 3, Batch 50, Loss: 0.9071\n",
            "Epoch 3, Batch 100, Loss: 0.8206\n",
            "Epoch 3, Batch 150, Loss: 1.3695\n",
            "Epoch 3, Training Accuracy: 70.67 % , Test Accuracy: 68.89 %\n",
            "Epoch 4, Batch 50, Loss: 0.7179\n",
            "Epoch 4, Batch 100, Loss: 0.6493\n",
            "Epoch 4, Batch 150, Loss: 0.8164\n",
            "Epoch 4, Training Accuracy: 75.78 % , Test Accuracy: 67.33 %\n",
            "Epoch 5, Batch 50, Loss: 0.6053\n",
            "Epoch 5, Batch 100, Loss: 0.6272\n",
            "Epoch 5, Batch 150, Loss: 0.7749\n",
            "Epoch 5, Training Accuracy: 79.11 % , Test Accuracy: 71.78 %\n",
            "Epoch 6, Batch 50, Loss: 0.7716\n",
            "Epoch 6, Batch 100, Loss: 0.5126\n",
            "Epoch 6, Batch 150, Loss: 0.6181\n",
            "Epoch 6, Training Accuracy: 81.00 % , Test Accuracy: 77.33 %\n",
            "Epoch 7, Batch 50, Loss: 0.5296\n",
            "Epoch 7, Batch 100, Loss: 1.1371\n",
            "Epoch 7, Batch 150, Loss: 0.8726\n",
            "Epoch 7, Training Accuracy: 77.19 % , Test Accuracy: 60.89 %\n",
            "Epoch 8, Batch 50, Loss: 0.7088\n",
            "Epoch 8, Batch 100, Loss: 0.5494\n",
            "Epoch 8, Batch 150, Loss: 0.4549\n",
            "Epoch 8, Training Accuracy: 78.72 % , Test Accuracy: 75.22 %\n",
            "Epoch 9, Batch 50, Loss: 0.6940\n",
            "Epoch 9, Batch 100, Loss: 0.4035\n",
            "Epoch 9, Batch 150, Loss: 0.8657\n",
            "Epoch 9, Training Accuracy: 85.06 % , Test Accuracy: 79.67 %\n",
            "Epoch 10, Batch 50, Loss: 0.3915\n",
            "Epoch 10, Batch 100, Loss: 0.5990\n",
            "Epoch 10, Batch 150, Loss: 0.4949\n",
            "Epoch 10, Training Accuracy: 86.19 % , Test Accuracy: 79.00 %\n",
            "Finished Training\n",
            "Training took: 2.3489768306414285 minutes!\n"
          ]
        }
      ],
      "source": [
        "import time\n",
        "start_time = time.time()\n",
        "\n",
        "# Training parameters\n",
        "epochs = 10\n",
        "train_losses = []\n",
        "test_losses = []\n",
        "train_correct = []\n",
        "test_correct = []\n",
        "\n",
        "# Training loop\n",
        "for epoch in range(epochs):\n",
        "    trn_corr = 0\n",
        "    tst_corr = 0\n",
        "    train_total = 0\n",
        "    model.train()  # Set the model to training mode\n",
        "\n",
        "    # Train\n",
        "    for batch, (X_train, y_train) in enumerate(train_loader):\n",
        "        batch += 1\n",
        "\n",
        "        optimizer.zero_grad() # Zero the gradients\n",
        "        y_pred = model(X_train)  # Forward pass\n",
        "        _, y_train = y_train.max(dim=1)\n",
        "        loss = criterion(y_pred, y_train)  # Compute the loss\n",
        "\n",
        "        predicted = torch.max(y_pred.data,1)[1]  # add up the number of correct predictions\n",
        "        batch_corr = (predicted == y_train).sum()  # how many we got correct from this batch.\n",
        "        trn_corr += batch_corr  # keep track as we go along in training.\n",
        "        train_total += y_train.size(0)\n",
        "\n",
        "\n",
        "        loss.backward()  # Backward pass\n",
        "        optimizer.step()  # Update the weights\n",
        "\n",
        "\n",
        "        # Print statistics every 50 batches\n",
        "        if not (batch % 50):\n",
        "            print(f'Epoch {epoch + 1}, Batch {batch}, Loss: {loss.item():.4f}')\n",
        "\n",
        "    train_accuracy = 100 * trn_corr / train_total\n",
        "\n",
        "    train_losses.append(loss)\n",
        "    train_correct.append(trn_corr)\n",
        "\n",
        "    # Test\n",
        "    model.eval() # Set the model to testing mode\n",
        "    test_total = 0\n",
        "    with torch.no_grad(): # no gradient so we don't update our weights and biases with test data\n",
        "      for batch, (X_test,y_test) in enumerate(test_loader):\n",
        "          y_val = model(X_test)\n",
        "          predicted = torch.max(y_val.data,1)[1]  # Adding up correct predictions\n",
        "          _, y_test = y_test.max(dim=1)\n",
        "          test_total += y_test.size(0)\n",
        "          tst_corr += (predicted == y_test).sum()\n",
        "\n",
        "    loss = criterion(y_val,y_test)\n",
        "    test_losses.append(loss)\n",
        "    test_correct.append(tst_corr)\n",
        "\n",
        "    test_accuracy = 100 * tst_corr / test_total\n",
        "\n",
        "    print(f'Epoch {epoch + 1}, Training Accuracy: {train_accuracy:.2f} % , Test Accuracy: {test_accuracy:.2f} %')\n",
        "\n",
        "\n",
        "# Training complete\n",
        "print('Finished Training')\n",
        "\n",
        "current_time = time.time()\n",
        "total = current_time - start_time\n",
        "print(f\"Training took: {total/60} minutes!\")"
      ]
    },
    {
      "cell_type": "code",
      "execution_count": 249,
      "metadata": {
        "colab": {
          "base_uri": "https://localhost:8080/"
        },
        "id": "TR4zGogRDCJP",
        "outputId": "50ceb817-bd3c-4160-f7b7-d30b40a0b0eb"
      },
      "outputs": [
        {
          "output_type": "stream",
          "name": "stdout",
          "text": [
            "Accuracy on the test set: 79.00%\n"
          ]
        }
      ],
      "source": [
        "\"\"\"\n",
        "Tests the trained model on the test dataset and prints the accuracy.\n",
        "\"\"\"\n",
        "\n",
        "# Test\n",
        "correct = 0\n",
        "total = 0\n",
        "model.eval()\n",
        "\n",
        "with torch.no_grad(): # no gradient so we don't update our weights and biases with test data\n",
        "  for X_test,y_test in test_loader:\n",
        "      y_val = model(X_test)\n",
        "      predicted = torch.max(y_val.data,1)[1]  # Adding up correct predictions\n",
        "      _, y_test = y_test.max(dim=1)\n",
        "      total += y_test.size(0)\n",
        "      correct += (predicted == y_test).sum()\n",
        "\n",
        "accuracy = correct / total * 100\n",
        "\n",
        "print(f'Accuracy on the test set: {accuracy:.2f}%')"
      ]
    },
    {
      "cell_type": "code",
      "source": [
        "# Prints the lists of training and testing losses\n",
        "\n",
        "print(train_losses)\n",
        "print(test_losses)"
      ],
      "metadata": {
        "colab": {
          "base_uri": "https://localhost:8080/"
        },
        "id": "Qc2nhCrS2_mR",
        "outputId": "9e35d1c2-ba1a-4afd-b6bc-e4b919a8de1a"
      },
      "execution_count": 250,
      "outputs": [
        {
          "output_type": "stream",
          "name": "stdout",
          "text": [
            "[tensor(1.1788, grad_fn=<NllLossBackward0>), tensor(1.2279, grad_fn=<NllLossBackward0>), tensor(1.1159, grad_fn=<NllLossBackward0>), tensor(0.9408, grad_fn=<NllLossBackward0>), tensor(0.5878, grad_fn=<NllLossBackward0>), tensor(0.4730, grad_fn=<NllLossBackward0>), tensor(0.4319, grad_fn=<NllLossBackward0>), tensor(0.4141, grad_fn=<NllLossBackward0>), tensor(0.4817, grad_fn=<NllLossBackward0>), tensor(0.2867, grad_fn=<NllLossBackward0>)]\n",
            "[tensor(1.5441), tensor(1.4063), tensor(0.8260), tensor(1.4022), tensor(0.8618), tensor(1.1755), tensor(1.6140), tensor(1.0676), tensor(0.7000), tensor(0.6477)]\n"
          ]
        }
      ]
    },
    {
      "cell_type": "code",
      "source": [
        "# Converts the training losses from PyTorch tensors to Python floats\n",
        "\n",
        "train_loss = [tl.item() for tl in train_losses]"
      ],
      "metadata": {
        "id": "T7yHdYs167Qr"
      },
      "execution_count": 251,
      "outputs": []
    },
    {
      "cell_type": "code",
      "source": [
        "# Prints the lists of training loss (converted to Python floats) and testing losses\n",
        "\n",
        "print(train_loss)\n",
        "print(test_losses)"
      ],
      "metadata": {
        "colab": {
          "base_uri": "https://localhost:8080/"
        },
        "id": "-UnKctCq7CWc",
        "outputId": "48669eea-34f8-4981-dbe0-b577a7fc2543"
      },
      "execution_count": 252,
      "outputs": [
        {
          "output_type": "stream",
          "name": "stdout",
          "text": [
            "[1.1787619590759277, 1.2278660535812378, 1.115919828414917, 0.9407588243484497, 0.5877807140350342, 0.4730462431907654, 0.4318501055240631, 0.4141349792480469, 0.48171311616897583, 0.2867353558540344]\n",
            "[tensor(1.5441), tensor(1.4063), tensor(0.8260), tensor(1.4022), tensor(0.8618), tensor(1.1755), tensor(1.6140), tensor(1.0676), tensor(0.7000), tensor(0.6477)]\n"
          ]
        }
      ]
    },
    {
      "cell_type": "code",
      "execution_count": 253,
      "metadata": {
        "colab": {
          "base_uri": "https://localhost:8080/",
          "height": 469
        },
        "id": "VIf2VBoQDenw",
        "outputId": "7de8a51e-0e7d-4cad-b550-84df329a6ee5"
      },
      "outputs": [
        {
          "output_type": "execute_result",
          "data": {
            "text/plain": [
              "<matplotlib.legend.Legend at 0x7d962a50c970>"
            ]
          },
          "metadata": {},
          "execution_count": 253
        },
        {
          "output_type": "display_data",
          "data": {
            "text/plain": [
              "<Figure size 640x480 with 1 Axes>"
            ],
            "image/png": "[encoded data removed]"
          },
          "metadata": {}
        }
      ],
      "source": [
        "# Plots the training and validation losses over epochs\n",
        "\n",
        "plt.plot(train_loss,label=\"Training Loss\")\n",
        "plt.plot(test_losses,label=\"Validation Loss\")\n",
        "plt.title(\"Loss at Epoch\")\n",
        "plt.legend()"
      ]
    },
    {
      "cell_type": "code",
      "source": [
        "# Prints the number of correct predictions for training and testing sets\n",
        "\n",
        "print(train_correct)\n",
        "print(test_correct)"
      ],
      "metadata": {
        "colab": {
          "base_uri": "https://localhost:8080/"
        },
        "id": "Qp-6_HKN4JFA",
        "outputId": "b6730d49-1b9d-415f-ae76-42643df4e88f"
      },
      "execution_count": 254,
      "outputs": [
        {
          "output_type": "stream",
          "name": "stdout",
          "text": [
            "[tensor(808), tensor(2088), tensor(2544), tensor(2728), tensor(2848), tensor(2916), tensor(2779), tensor(2834), tensor(3062), tensor(3103)]\n",
            "[tensor(435), tensor(588), tensor(620), tensor(606), tensor(646), tensor(696), tensor(548), tensor(677), tensor(717), tensor(711)]\n"
          ]
        }
      ]
    },
    {
      "cell_type": "code",
      "execution_count": 255,
      "metadata": {
        "colab": {
          "base_uri": "https://localhost:8080/",
          "height": 489
        },
        "id": "QJMhB2rlUlTk",
        "outputId": "eeeb2b88-cd78-4a62-a12b-c3ea872006dd"
      },
      "outputs": [
        {
          "output_type": "execute_result",
          "data": {
            "text/plain": [
              "<matplotlib.legend.Legend at 0x7d9629636260>"
            ]
          },
          "metadata": {},
          "execution_count": 255
        },
        {
          "output_type": "display_data",
          "data": {
            "text/plain": [
              "<Figure size 640x480 with 1 Axes>"
            ],
            "image/png": "[encoded data removed]"
          },
          "metadata": {}
        }
      ],
      "source": [
        "# Plots the training and validation accuracies at the end of each epoch\n",
        "\n",
        "plt.plot([t/3600*100 for t in train_correct],label=\"Training Accuracy\")\n",
        "plt.plot([t/900*100 for t in test_correct],label=\"Validation Accuracy\")\n",
        "plt.title('Accuracy at the end of each Epoch')\n",
        "plt.xlabel('Epoch')\n",
        "plt.ylabel('Accuracy (%)')\n",
        "plt.legend()\n",
        "plt.legend()"
      ]
    },
    {
      "cell_type": "code",
      "execution_count": 257,
      "metadata": {
        "id": "-wwIjkWeUtD-"
      },
      "outputs": [],
      "source": [
        "# Creates a DataLoader for the entire test dataset with a batch size of 360(total test dataset) and no shuffling\n",
        "\n",
        "test_load_everything = DataLoader(test_dataset,batch_size=360,shuffle=False)"
      ]
    },
    {
      "cell_type": "code",
      "execution_count": 258,
      "metadata": {
        "id": "EFb7jmP3U0VU"
      },
      "outputs": [],
      "source": [
        "# Tests the trained model on the entire test dataset without gradient computation\n",
        "\n",
        "with torch.no_grad():\n",
        "  correct = 0\n",
        "  for X_test, y_test in test_load_everything:\n",
        "    y_val = model(X_test)\n",
        "    predicted = torch.max(y_val,1)[1]\n",
        "    _, y_test = y_test.max(dim=1)\n",
        "    correct += (predicted == y_test).sum()"
      ]
    },
    {
      "cell_type": "code",
      "execution_count": 260,
      "metadata": {
        "colab": {
          "base_uri": "https://localhost:8080/"
        },
        "id": "iOomCUzlU-Kr",
        "outputId": "d4e74797-b2f9-479c-859c-b21c75f72a34"
      },
      "outputs": [
        {
          "output_type": "stream",
          "name": "stdout",
          "text": [
            "Accuracy on the test set: 79.00%\n"
          ]
        }
      ],
      "source": [
        "# Calculates the overall accuracy on the entire test dataset\n",
        "\n",
        "accuracy_overall = correct.item() / len(test_dataset) * 100\n",
        "print(f'Accuracy on the test set: {accuracy_overall:.2f}%')"
      ]
    },
    {
      "cell_type": "code",
      "execution_count": 261,
      "metadata": {
        "id": "UTcV7C2jVRnn",
        "colab": {
          "base_uri": "https://localhost:8080/"
        },
        "outputId": "45ed1bfe-34bd-4cf5-d974-05275e71c01a"
      },
      "outputs": [
        {
          "output_type": "execute_result",
          "data": {
            "text/plain": [
              "(tensor([[[1., 1., 1.,  ..., 1., 1., 1.],\n",
              "          [1., 1., 1.,  ..., 1., 1., 1.],\n",
              "          [1., 1., 1.,  ..., 1., 1., 1.],\n",
              "          ...,\n",
              "          [1., 1., 1.,  ..., 1., 1., 1.],\n",
              "          [1., 1., 1.,  ..., 1., 1., 1.],\n",
              "          [1., 1., 1.,  ..., 1., 1., 1.]],\n",
              " \n",
              "         [[1., 1., 1.,  ..., 1., 1., 1.],\n",
              "          [1., 1., 1.,  ..., 1., 1., 1.],\n",
              "          [1., 1., 1.,  ..., 1., 1., 1.],\n",
              "          ...,\n",
              "          [1., 1., 1.,  ..., 1., 1., 1.],\n",
              "          [1., 1., 1.,  ..., 1., 1., 1.],\n",
              "          [1., 1., 1.,  ..., 1., 1., 1.]],\n",
              " \n",
              "         [[1., 1., 1.,  ..., 1., 1., 1.],\n",
              "          [1., 1., 1.,  ..., 1., 1., 1.],\n",
              "          [1., 1., 1.,  ..., 1., 1., 1.],\n",
              "          ...,\n",
              "          [1., 1., 1.,  ..., 1., 1., 1.],\n",
              "          [1., 1., 1.,  ..., 1., 1., 1.],\n",
              "          [1., 1., 1.,  ..., 1., 1., 1.]]]),\n",
              " tensor([0., 0., 0., 0., 0., 0., 0., 0., 0., 0., 0., 1., 0., 0., 0., 0., 0., 0.,\n",
              "         0., 0.]))"
            ]
          },
          "metadata": {},
          "execution_count": 261
        }
      ],
      "source": [
        "# Grab an image\n",
        "\n",
        "test_dataset[300]   # Tensor with an image in it...at end it shows the label"
      ]
    },
    {
      "cell_type": "code",
      "source": [
        "# Grab just the data\n",
        "\n",
        "test_dataset[200][0]"
      ],
      "metadata": {
        "colab": {
          "base_uri": "https://localhost:8080/"
        },
        "id": "Dky4Yo6p_hSr",
        "outputId": "9ad710be-a7d6-4984-abb8-779c21f2a4db"
      },
      "execution_count": 271,
      "outputs": [
        {
          "output_type": "execute_result",
          "data": {
            "text/plain": [
              "tensor([[[0.0000, 0.0039, 0.0118,  ..., 0.0000, 0.0000, 0.0118],\n",
              "         [0.0078, 0.0000, 0.0000,  ..., 0.0118, 0.0000, 0.0000],\n",
              "         [0.0000, 0.0000, 0.0039,  ..., 0.0039, 0.0078, 0.0078],\n",
              "         ...,\n",
              "         [0.0078, 0.0078, 0.0000,  ..., 0.0000, 0.0000, 0.0000],\n",
              "         [0.0118, 0.0000, 0.0078,  ..., 0.0000, 0.0000, 0.0000],\n",
              "         [0.0000, 0.0078, 0.0000,  ..., 0.0000, 0.0000, 0.0000]],\n",
              "\n",
              "        [[0.0000, 0.0039, 0.0118,  ..., 0.0000, 0.0000, 0.0118],\n",
              "         [0.0078, 0.0000, 0.0000,  ..., 0.0118, 0.0000, 0.0000],\n",
              "         [0.0000, 0.0000, 0.0039,  ..., 0.0039, 0.0078, 0.0078],\n",
              "         ...,\n",
              "         [0.0078, 0.0078, 0.0000,  ..., 0.0000, 0.0000, 0.0000],\n",
              "         [0.0118, 0.0000, 0.0078,  ..., 0.0000, 0.0000, 0.0000],\n",
              "         [0.0000, 0.0078, 0.0000,  ..., 0.0000, 0.0000, 0.0000]],\n",
              "\n",
              "        [[0.0000, 0.0039, 0.0118,  ..., 0.0000, 0.0000, 0.0118],\n",
              "         [0.0078, 0.0000, 0.0000,  ..., 0.0118, 0.0000, 0.0000],\n",
              "         [0.0000, 0.0000, 0.0039,  ..., 0.0039, 0.0078, 0.0078],\n",
              "         ...,\n",
              "         [0.0078, 0.0078, 0.0000,  ..., 0.0000, 0.0000, 0.0000],\n",
              "         [0.0118, 0.0000, 0.0078,  ..., 0.0000, 0.0000, 0.0000],\n",
              "         [0.0000, 0.0078, 0.0000,  ..., 0.0000, 0.0000, 0.0000]]])"
            ]
          },
          "metadata": {},
          "execution_count": 271
        }
      ]
    },
    {
      "cell_type": "code",
      "source": [
        "# Displays an image from the test dataset using matplotlib\n",
        "\n",
        "plt.imshow(test_dataset[200][0].permute(1, 2, 0).numpy(), cmap='gray_r')"
      ],
      "metadata": {
        "colab": {
          "base_uri": "https://localhost:8080/",
          "height": 447
        },
        "id": "_seYzURg_o5A",
        "outputId": "d2aafbdc-ffac-4630-eb14-bfe53ccb7d9e"
      },
      "execution_count": 272,
      "outputs": [
        {
          "output_type": "execute_result",
          "data": {
            "text/plain": [
              "<matplotlib.image.AxesImage at 0x7d9629460310>"
            ]
          },
          "metadata": {},
          "execution_count": 272
        },
        {
          "output_type": "display_data",
          "data": {
            "text/plain": [
              "<Figure size 640x480 with 1 Axes>"
            ],
            "image/png": "[encoded data removed]"
          },
          "metadata": {}
        }
      ]
    },
    {
      "cell_type": "code",
      "source": [
        "# Sets the model to evaluation mode and makes a prediction on a single image from the test dataset\n",
        "\n",
        "model.eval()\n",
        "with torch.no_grad():\n",
        "  new_prediction = model(test_dataset[200][0].view(1,3,28,28))"
      ],
      "metadata": {
        "id": "1zXvdequ_r2r"
      },
      "execution_count": 275,
      "outputs": []
    },
    {
      "cell_type": "code",
      "source": [
        "# Retrieves the predicted class label based on the maximum probability\n",
        "\n",
        "classes[new_prediction.argmax()]"
      ],
      "metadata": {
        "colab": {
          "base_uri": "https://localhost:8080/",
          "height": 35
        },
        "id": "hBwjNIDsAlsA",
        "outputId": "f172b5c1-19a0-4322-8584-2f61cac37f50"
      },
      "execution_count": 274,
      "outputs": [
        {
          "output_type": "execute_result",
          "data": {
            "text/plain": [
              "'ጠ'"
            ],
            "application/vnd.google.colaboratory.intrinsic+json": {
              "type": "string"
            }
          },
          "metadata": {},
          "execution_count": 274
        }
      ]
    },
    {
      "cell_type": "code",
      "source": [
        "\"\"\"\n",
        "Defines a concise function (Prediction) to make predictions on a specific image from the test dataset.\n",
        "\"\"\"\n",
        "\n",
        "def Prediction(test_dataset,ind):\n",
        "    model.eval()\n",
        "    with torch.no_grad():\n",
        "        plt.imshow(test_dataset[ind][0].permute(1, 2, 0).numpy(), cmap='gray_r')\n",
        "        new_prediction = model(test_dataset[ind][0].view(1, 3, 28, 28))\n",
        "        predicted_class = classes[new_prediction.argmax()]\n",
        "        print('Predicted:', predicted_class)"
      ],
      "metadata": {
        "id": "XS2_gv_EAoSW"
      },
      "execution_count": 276,
      "outputs": []
    },
    {
      "cell_type": "code",
      "source": [
        "# Calls the Prediction function on the test dataset with image index 10\n",
        "\n",
        "Prediction(test_dataset,10)"
      ],
      "metadata": {
        "colab": {
          "base_uri": "https://localhost:8080/",
          "height": 447
        },
        "id": "3-I7CHl3BsvL",
        "outputId": "fc5540f1-c11e-44ff-e34b-c176fd23eb62"
      },
      "execution_count": 277,
      "outputs": [
        {
          "output_type": "stream",
          "name": "stdout",
          "text": [
            "Predicted: ዘ\n"
          ]
        },
        {
          "output_type": "display_data",
          "data": {
            "text/plain": [
              "<Figure size 640x480 with 1 Axes>"
            ],
            "image/png": "[encoded data removed]"
          },
          "metadata": {}
        }
      ]
    },
    {
      "cell_type": "code",
      "source": [],
      "metadata": {
        "id": "nkl54S0FJcik"
      },
      "execution_count": 277,
      "outputs": []
    },
    {
      "cell_type": "code",
      "source": [
        "Prediction(test_dataset,150)"
      ],
      "metadata": {
        "colab": {
          "base_uri": "https://localhost:8080/",
          "height": 447
        },
        "id": "jvIRdsjrC5xJ",
        "outputId": "3b4a6452-f896-421f-b337-b7d8628c1e91"
      },
      "execution_count": 278,
      "outputs": [
        {
          "output_type": "stream",
          "name": "stdout",
          "text": [
            "Predicted: ሰ\n"
          ]
        },
        {
          "output_type": "display_data",
          "data": {
            "text/plain": [
              "<Figure size 640x480 with 1 Axes>"
            ],
            "image/png": "[encoded data removed]"
          },
          "metadata": {}
        }
      ]
    },
    {
      "cell_type": "code",
      "source": [
        "Prediction(test_dataset,60)"
      ],
      "metadata": {
        "colab": {
          "base_uri": "https://localhost:8080/",
          "height": 447
        },
        "id": "sCqjcinkJfo7",
        "outputId": "0d6ddec0-4d24-4fc6-9fd0-debe85424389"
      },
      "execution_count": 279,
      "outputs": [
        {
          "output_type": "stream",
          "name": "stdout",
          "text": [
            "Predicted: ረ\n"
          ]
        },
        {
          "output_type": "display_data",
          "data": {
            "text/plain": [
              "<Figure size 640x480 with 1 Axes>"
            ],
            "image/png": "[encoded data removed]"
          },
          "metadata": {}
        }
      ]
    },
    {
      "cell_type": "code",
      "source": [
        "Prediction(test_dataset,40)"
      ],
      "metadata": {
        "colab": {
          "base_uri": "https://localhost:8080/",
          "height": 447
        },
        "id": "JeQbDRNXG6aD",
        "outputId": "4f186439-1f78-4b75-9220-3a0be9665927"
      },
      "execution_count": 280,
      "outputs": [
        {
          "output_type": "stream",
          "name": "stdout",
          "text": [
            "Predicted: ደ\n"
          ]
        },
        {
          "output_type": "display_data",
          "data": {
            "text/plain": [
              "<Figure size 640x480 with 1 Axes>"
            ],
            "image/png": "[encoded data removed]"
          },
          "metadata": {}
        }
      ]
    },
    {
      "cell_type": "code",
      "source": [
        "# Sets the model to evaluation mode and predicts classes for all samples in the test dataset\n",
        "\n",
        "model.eval()  # Set the model to evaluation mode\n",
        "y_pred_list = []\n",
        "\n",
        "with torch.no_grad():\n",
        "    for i in range(len(test_dataset)):\n",
        "        X_test, y_test = test_dataset[i]\n",
        "        X_test = X_test.view(1, 3, 28, 28)  #\n",
        "        y_val = model(X_test)\n",
        "        _, y_pred = torch.max(y_val, 1)\n",
        "        y_pred_list.append(y_pred.item())\n",
        "\n",
        "y_classes = y_pred_list"
      ],
      "metadata": {
        "id": "7tOiSqOJG_dW"
      },
      "execution_count": 281,
      "outputs": []
    },
    {
      "cell_type": "code",
      "source": [
        "# Prints the predicted classes for the first 20 samples in the test dataset\n",
        "\n",
        "y_classes[:20]"
      ],
      "metadata": {
        "colab": {
          "base_uri": "https://localhost:8080/"
        },
        "id": "uECWKPeRKHgd",
        "outputId": "bb8c99ef-7aba-4ea8-80d7-9ca6720a4600"
      },
      "execution_count": 282,
      "outputs": [
        {
          "output_type": "execute_result",
          "data": {
            "text/plain": [
              "[7, 5, 19, 1, 6, 8, 14, 4, 7, 2, 13, 14, 6, 5, 18, 0, 6, 19, 0, 16]"
            ]
          },
          "metadata": {},
          "execution_count": 282
        }
      ]
    },
    {
      "cell_type": "code",
      "source": [],
      "metadata": {
        "id": "dJ45icmmKKDK"
      },
      "execution_count": 282,
      "outputs": []
    },
    {
      "cell_type": "code",
      "source": [],
      "metadata": {
        "id": "f6sTpp2vU4wz"
      },
      "execution_count": 282,
      "outputs": []
    },
    {
      "cell_type": "code",
      "source": [],
      "metadata": {
        "id": "RIp3SueVU4zA"
      },
      "execution_count": null,
      "outputs": []
    },
    {
      "cell_type": "markdown",
      "source": [
        "# **Thank you!**"
      ],
      "metadata": {
        "id": "8bWOmMOqU5VN"
      }
    },
    {
      "cell_type": "markdown",
      "source": [
        "### **Muluken Hakim Ayansa**\n",
        "\n"
      ],
      "metadata": {
        "id": "rx0mmo_4VtxC"
      }
    },
    {
      "cell_type": "code",
      "source": [],
      "metadata": {
        "id": "v0VenWm7U8rw"
      },
      "execution_count": null,
      "outputs": []
    }
  ],
  "metadata": {
    "accelerator": "GPU",
    "colab": {
      "provenance": [],
      "gpuType": "T4",
      "mount_file_id": "1kuYN1jwKcE3bLxiHbuKdqyw35nNQ6Vwk",
      "authorship_tag": "ABX9TyPYA4Hb/V6QbZH1yNaB1phc",
      "include_colab_link": true
    },
    "kernelspec": {
      "display_name": "Python 3",
      "name": "python3"
    },
    "language_info": {
      "name": "python"
    }
  },
  "nbformat": 4,
  "nbformat_minor": 0
}