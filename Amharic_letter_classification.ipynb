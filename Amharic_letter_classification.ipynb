{
  "cells": [
    {
      "cell_type": "markdown",
      "metadata": {
        "id": "hR2-mnKpQsFc"
      },
      "source": [
        "# Amharic Letter Classification"
      ]
    },
    {
      "cell_type": "code",
      "execution_count": null,
      "metadata": {
        "id": "JnJsN3KcXXy3"
      },
      "outputs": [],
      "source": [
        "\"\"\"\n",
        "Sets up the foundation for a PyTorch image classification model.\n",
        "Imports necessary libraries for dataset handling and model training.\n",
        "\"\"\"\n",
        "\n",
        "import os\n",
        "import numpy as np\n",
        "from sklearn.model_selection import train_test_split\n",
        "from torchvision import transforms\n",
        "import matplotlib.pyplot as plt\n",
        "import torch\n",
        "from torch import nn, optim\n",
        "import torch.nn as nn\n",
        "import torch.nn.functional as F\n",
        "from torchvision.datasets import ImageFolder\n",
        "from torch.utils.data import Dataset, DataLoader"
      ]
    },
    {
      "cell_type": "code",
      "execution_count": null,
      "metadata": {
        "id": "vhqhtBzAUpiv"
      },
      "outputs": [],
      "source": [
        "\"\"\"\n",
        "Defines a custom dataset class (MyDataset) for Amharic letter classification.\n",
        "\n",
        "Parameters:\n",
        "- folder_path: The path to the folder containing the dataset.\n",
        "- transform: Optional image transformation to be applied.\n",
        "\"\"\"\n",
        "\n",
        "class MyDataset(Dataset):\n",
        "    def __init__(self, folder_path, transform=None):\n",
        "        self.folder_path = folder_path\n",
        "        self.transform = transform\n",
        "        self.image_folder = ImageFolder(folder_path, transform=self.transform)\n",
        "\n",
        "    def __len__(self):\n",
        "        return len(self.image_folder)\n",
        "\n",
        "    def __getitem__(self, idx):\n",
        "        img, label = self.image_folder[idx]\n",
        "        one_hot_label = torch.zeros(20)\n",
        "        one_hot_label[label] = 1\n",
        "        return img, one_hot_label"
      ]
    },
    {
      "cell_type": "code",
      "execution_count": null,
      "metadata": {
        "id": "1hC-SVGNWVKw"
      },
      "outputs": [],
      "source": [
        "# Specify the path to the dataset folder\n",
        "dataset_path = '/content/drive/MyDrive/amharic_datasets'"
      ]
    },
    {
      "cell_type": "code",
      "execution_count": null,
      "metadata": {
        "id": "PhQpoi0tGm2n"
      },
      "outputs": [],
      "source": [
        "\"\"\"\n",
        "Defines a sequence of image transformations using torchvision.transforms.Compose.\n",
        "\n",
        "Transformations:\n",
        "- Resize images to (28, 28) pixels.\n",
        "- Convert images to PyTorch tensors.\n",
        "\"\"\"\n",
        "\n",
        "data_transform = transforms.Compose([\n",
        "    transforms.Resize((28, 28)),\n",
        "    transforms.ToTensor(),\n",
        "])"
      ]
    },
    {
      "cell_type": "code",
      "execution_count": null,
      "metadata": {
        "id": "MwuzEpyRGnYo"
      },
      "outputs": [],
      "source": [
        "# Create an instance of the custom dataset using the specified path and transformations\n",
        "dataset = MyDataset(folder_path=dataset_path, transform=data_transform)"
      ]
    },
    {
      "cell_type": "code",
      "execution_count": null,
      "metadata": {
        "colab": {
          "base_uri": "https://localhost:8080/"
        },
        "id": "IgsGgydwTDD9",
        "outputId": "5808a548-40b9-4648-a3d4-2bee3dc00bea"
      },
      "outputs": [
        {
          "data": {
            "text/plain": [
              "<__main__.MyDataset at 0x7e10fb8ed9f0>"
            ]
          },
          "execution_count": 88,
          "metadata": {},
          "output_type": "execute_result"
        }
      ],
      "source": [
        "dataset"
      ]
    },
    {
      "cell_type": "code",
      "execution_count": null,
      "metadata": {
        "id": "mOj1D7mVGqDF"
      },
      "outputs": [],
      "source": [
        "\"\"\"\n",
        "Splits the dataset into training and testing sets using torch.utils.data.random_split.\n",
        "\n",
        "Parameters:\n",
        "- train_size: Percentage of data to be used for training (80%).\n",
        "- test_size: Percentage of data to be used for testing (20%).\n",
        "\"\"\"\n",
        "\n",
        "train_size = int(0.8 * len(dataset))\n",
        "test_size = len(dataset) - train_size\n",
        "train_dataset, test_dataset = torch.utils.data.random_split(dataset, [train_size, test_size])"
      ]
    },
    {
      "cell_type": "code",
      "execution_count": null,
      "metadata": {
        "id": "dvCY8PCwGvkG"
      },
      "outputs": [],
      "source": [
        "# Create data loaders\n",
        "train_loader = DataLoader(train_dataset, batch_size=20, shuffle=True)\n",
        "test_loader = DataLoader(test_dataset, batch_size=20, shuffle=False)"
      ]
    },
    {
      "cell_type": "code",
      "execution_count": null,
      "metadata": {
        "colab": {
          "base_uri": "https://localhost:8080/"
        },
        "id": "CB41l2LBGx4A",
        "outputId": "87e94459-70d8-4bdb-c797-27138832de8f"
      },
      "outputs": [
        {
          "name": "stdout",
          "output_type": "stream",
          "text": [
            "Train dataset size: 3600\n",
            "Test dataset size: 900\n"
          ]
        }
      ],
      "source": [
        "# Prints the sizes of the training and testing datasets\n",
        "\n",
        "print(\"Train dataset size:\", len(train_dataset))\n",
        "print(\"Test dataset size:\", len(test_dataset))"
      ]
    },
    {
      "cell_type": "code",
      "execution_count": null,
      "metadata": {
        "id": "h78S5fzrKvEG"
      },
      "outputs": [],
      "source": []
    },
    {
      "cell_type": "code",
      "execution_count": null,
      "metadata": {
        "id": "FhO2XNwHXLJ2"
      },
      "outputs": [],
      "source": []
    },
    {
      "cell_type": "code",
      "execution_count": null,
      "metadata": {
        "id": "AeGiHsogbFpG"
      },
      "outputs": [],
      "source": [
        "# Create an iterator for the training DataLoader and retrieve the first batch\n",
        "data_train = iter(train_loader)\n",
        "images, labels = next(data_train)\n"
      ]
    },
    {
      "cell_type": "code",
      "execution_count": null,
      "metadata": {
        "colab": {
          "base_uri": "https://localhost:8080/"
        },
        "id": "xAsJf6VyLL8S",
        "outputId": "a61bfa0e-9dba-4b2c-e311-3437483d1165"
      },
      "outputs": [
        {
          "name": "stdout",
          "output_type": "stream",
          "text": [
            "Batch of Images shape: torch.Size([20, 3, 28, 28])\n",
            "Batch of Labels shape: torch.Size([20, 20])\n"
          ]
        }
      ],
      "source": [
        "# Print the shapes of the images and labels in the batch\n",
        "print(\"Batch of Images shape:\", images.shape)\n",
        "print(\"Batch of Labels shape:\", labels.shape)"
      ]
    },
    {
      "cell_type": "code",
      "execution_count": null,
      "metadata": {
        "colab": {
          "base_uri": "https://localhost:8080/",
          "height": 447
        },
        "id": "g14ql_9Iu7lw",
        "outputId": "348ec9a4-65b3-464a-ee19-70d831cf3d5d"
      },
      "outputs": [
        {
          "data": {
            "text/plain": [
              "<matplotlib.image.AxesImage at 0x7e10fb8ee710>"
            ]
          },
          "execution_count": 94,
          "metadata": {},
          "output_type": "execute_result"
        },
        {
          "data": {
            "image/png": "[encoded data removed]",
            "text/plain": [
              "<Figure size 640x480 with 1 Axes>"
            ]
          },
          "metadata": {},
          "output_type": "display_data"
        }
      ],
      "source": [
        "# Displays the random letter(image) in the batch using matplotlib\n",
        "\n",
        "plt.imshow(images[6].permute(1, 2, 0).numpy(), cmap='gray_r')"
      ]
    },
    {
      "cell_type": "code",
      "execution_count": null,
      "metadata": {
        "id": "xfzgJF0QxaWW"
      },
      "outputs": [],
      "source": []
    },
    {
      "cell_type": "code",
      "execution_count": null,
      "metadata": {
        "id": "_wjhi8_wxaZW"
      },
      "outputs": [],
      "source": [
        "# Defines a list of class labels corresponding to the dataset classes\n",
        "\n",
        "classes = [\n",
        "    'ሀ', 'ለ', 'መ', 'ረ', 'ሰ', 'ሸ', 'ቀ', 'በ', 'ተ', 'ቸ',\n",
        "    'ነ', 'ከ', 'ዐ',  'ዘ', 'የ', 'ደ', 'ገ', 'ጠ', 'ፀ', 'ፐ'\n",
        "]"
      ]
    },
    {
      "cell_type": "code",
      "execution_count": null,
      "metadata": {
        "id": "A5qSRm6IxblJ"
      },
      "outputs": [],
      "source": []
    },
    {
      "cell_type": "code",
      "execution_count": null,
      "metadata": {
        "id": "1si7jU_xu8xq"
      },
      "outputs": [],
      "source": [
        "# Defines a function to plot a sample image with its corresponding class label\n",
        "\n",
        "def plot_sample(index):\n",
        "      plt.imshow(images[index].permute(1, 2, 0).numpy(), cmap='gray_r')\n",
        "      # plt.xlabel(classes[np.argmax(labels[index])])"
      ]
    },
    {
      "cell_type": "code",
      "execution_count": null,
      "metadata": {
        "colab": {
          "base_uri": "https://localhost:8080/",
          "height": 430
        },
        "id": "2QfhlxTgv_Nl",
        "outputId": "d02b86a6-8b2f-4488-c60c-9220465637e0"
      },
      "outputs": [
        {
          "data": {
            "image/png": "[encoded data removed]",
            "text/plain": [
              "<Figure size 640x480 with 1 Axes>"
            ]
          },
          "metadata": {},
          "output_type": "display_data"
        }
      ],
      "source": [
        "# Plots a sample image with its corresponding class label for the specified index\n",
        "\n",
        "plot_sample(1)"
      ]
    },
    {
      "cell_type": "code",
      "execution_count": null,
      "metadata": {
        "colab": {
          "base_uri": "https://localhost:8080/",
          "height": 430
        },
        "id": "WP01V6hOv_QG",
        "outputId": "5793c93e-afbe-4afb-814a-16ba36dab646"
      },
      "outputs": [
        {
          "data": {
            "image/png": "[encoded data removed]",
            "text/plain": [
              "<Figure size 640x480 with 1 Axes>"
            ]
          },
          "metadata": {},
          "output_type": "display_data"
        }
      ],
      "source": [
        "plot_sample(14)"
      ]
    },
    {
      "cell_type": "code",
      "execution_count": null,
      "metadata": {
        "colab": {
          "background_save": true,
          "base_uri": "https://localhost:8080/",
          "height": 430
        },
        "id": "Evf_V6KwwUnj",
        "outputId": "5f166bd1-8b58-45a9-d350-6b553a5138df"
      },
      "outputs": [
        {
          "data": {
            "image/png": "[encoded data removed]",
            "text/plain": [
              "<Figure size 640x480 with 1 Axes>"
            ]
          },
          "metadata": {},
          "output_type": "display_data"
        }
      ],
      "source": [
        "plot_sample(9)"
      ]
    },
    {
      "cell_type": "code",
      "execution_count": null,
      "metadata": {
        "colab": {
          "background_save": true,
          "base_uri": "https://localhost:8080/",
          "height": 430
        },
        "id": "vKiYXpfn3GMh",
        "outputId": "5e3d646d-e73f-48cd-d63a-f322453c54fc"
      },
      "outputs": [
        {
          "data": {
            "image/png": "[encoded data removed]",
            "text/plain": [
              "<Figure size 640x480 with 1 Axes>"
            ]
          },
          "metadata": {},
          "output_type": "display_data"
        }
      ],
      "source": [
        "plot_sample(18)"
      ]
    },
    {
      "cell_type": "code",
      "execution_count": null,
      "metadata": {
        "colab": {
          "background_save": true
        },
        "id": "qV2jLMg23GOx"
      },
      "outputs": [],
      "source": []
    },
    {
      "cell_type": "code",
      "execution_count": null,
      "metadata": {
        "colab": {
          "base_uri": "https://localhost:8080/",
          "height": 406
        },
        "id": "t0oJ2qoTvm5X",
        "outputId": "9806fd24-8438-4b32-b3bf-36dcb5efbe13"
      },
      "outputs": [
        {
          "data": {
            "image/png": "[encoded data removed]",
            "text/plain": [
              "<Figure size 640x480 with 20 Axes>"
            ]
          },
          "metadata": {},
          "output_type": "display_data"
        }
      ],
      "source": [
        "# Plots a grid of sample images with no axis labels for the specified number of images (20)\n",
        "\n",
        "num_of_images = 20\n",
        "for index in range(num_of_images):\n",
        "    plt.subplot(5, 4, index+1)\n",
        "    plt.axis('off')\n",
        "    plt.imshow(images[index].permute(1, 2, 0).numpy(), cmap='gray_r')"
      ]
    },
    {
      "cell_type": "code",
      "execution_count": null,
      "metadata": {
        "id": "GecnqbQo9XIX"
      },
      "outputs": [],
      "source": [
        "# Iterates through the training dataset to get the first batch\n",
        "\n",
        "for batch in train_dataset:\n",
        "    x_train, y_train = batch\n",
        "    break"
      ]
    },
    {
      "cell_type": "code",
      "execution_count": null,
      "metadata": {
        "id": "QEwkBIRA9YkN"
      },
      "outputs": [],
      "source": [
        "# Iterates through the testing dataset to get the first batch\n",
        "\n",
        "for batch in test_dataset:\n",
        "    x_test, y_test = batch\n",
        "    break"
      ]
    },
    {
      "cell_type": "code",
      "execution_count": null,
      "metadata": {
        "colab": {
          "base_uri": "https://localhost:8080/"
        },
        "id": "tVzZGQN59ZyX",
        "outputId": "8d930658-ded3-4bed-fbc0-a342c7932224"
      },
      "outputs": [
        {
          "name": "stdout",
          "output_type": "stream",
          "text": [
            "x_train shape: torch.Size([3, 28, 28])\n",
            "y_train shape: torch.Size([20])\n",
            "x_test shape: torch.Size([3, 28, 28])\n",
            "y_test shape: torch.Size([20])\n"
          ]
        }
      ],
      "source": [
        "# Prints the shapes of the loaded training and testing datasets\n",
        "\n",
        "print(\"x_train shape:\", x_train.shape)\n",
        "print(\"y_train shape:\", y_train.shape)\n",
        "print(\"x_test shape:\", x_test.shape)\n",
        "print(\"y_test shape:\", y_test.shape)"
      ]
    },
    {
      "cell_type": "code",
      "execution_count": null,
      "metadata": {
        "id": "MjYYvy5D9a2q"
      },
      "outputs": [],
      "source": [
        "# Define our CNN model\n",
        "# Describe convolutional layer\n",
        "# This is just an example of how to build the model. I will build the actual model next.\n",
        "conv1 = nn.Conv2d(3,6,3,1)\n",
        "conv2 = nn.Conv2d(6,16,3,1)"
      ]
    },
    {
      "cell_type": "code",
      "execution_count": null,
      "metadata": {
        "colab": {
          "base_uri": "https://localhost:8080/"
        },
        "id": "gJUWyDFB9gAG",
        "outputId": "4dfd8d8e-b653-4b9c-b5bf-27e5ac001fde"
      },
      "outputs": [
        {
          "data": {
            "text/plain": [
              "tensor([[[0.0000, 0.0000, 0.0000,  ..., 0.0039, 0.0000, 0.0039],\n",
              "         [0.0000, 0.0000, 0.0000,  ..., 0.0039, 0.0039, 0.0000],\n",
              "         [0.0000, 0.0000, 0.0039,  ..., 0.0392, 0.0000, 0.0118],\n",
              "         ...,\n",
              "         [0.0235, 0.0000, 0.0510,  ..., 0.0000, 0.0000, 0.0000],\n",
              "         [0.0000, 0.0118, 0.0000,  ..., 0.0000, 0.0000, 0.0000],\n",
              "         [0.0078, 0.0000, 0.0078,  ..., 0.0000, 0.0000, 0.0000]],\n",
              "\n",
              "        [[0.0000, 0.0000, 0.0000,  ..., 0.0039, 0.0000, 0.0039],\n",
              "         [0.0000, 0.0000, 0.0000,  ..., 0.0039, 0.0039, 0.0000],\n",
              "         [0.0000, 0.0000, 0.0039,  ..., 0.0392, 0.0000, 0.0118],\n",
              "         ...,\n",
              "         [0.0235, 0.0000, 0.0510,  ..., 0.0000, 0.0000, 0.0000],\n",
              "         [0.0000, 0.0118, 0.0000,  ..., 0.0000, 0.0000, 0.0000],\n",
              "         [0.0078, 0.0000, 0.0078,  ..., 0.0000, 0.0000, 0.0000]],\n",
              "\n",
              "        [[0.0000, 0.0000, 0.0000,  ..., 0.0039, 0.0000, 0.0039],\n",
              "         [0.0000, 0.0000, 0.0000,  ..., 0.0039, 0.0039, 0.0000],\n",
              "         [0.0000, 0.0000, 0.0039,  ..., 0.0392, 0.0000, 0.0118],\n",
              "         ...,\n",
              "         [0.0235, 0.0000, 0.0510,  ..., 0.0000, 0.0000, 0.0000],\n",
              "         [0.0000, 0.0118, 0.0000,  ..., 0.0000, 0.0000, 0.0000],\n",
              "         [0.0078, 0.0000, 0.0078,  ..., 0.0000, 0.0000, 0.0000]]])"
            ]
          },
          "execution_count": 106,
          "metadata": {},
          "output_type": "execute_result"
        }
      ],
      "source": [
        "# 'x_train' contains the data from the first batch of the training dataset\n",
        "\n",
        "x_train"
      ]
    },
    {
      "cell_type": "code",
      "execution_count": null,
      "metadata": {
        "id": "Ciya7_7w80S7"
      },
      "outputs": [],
      "source": [
        "x = x_train.view(1,3,28,28)"
      ]
    },
    {
      "cell_type": "code",
      "execution_count": null,
      "metadata": {
        "id": "5cjybcuU80U_"
      },
      "outputs": [],
      "source": [
        "# Perform our first convolution\n",
        "x = F.relu(conv1(x)) # Rectified Linear Unit for our activation function"
      ]
    },
    {
      "cell_type": "code",
      "execution_count": null,
      "metadata": {
        "colab": {
          "base_uri": "https://localhost:8080/"
        },
        "id": "GptVZ0yC9JLZ",
        "outputId": "a73eb9a8-58c5-4640-fe87-1af1ee79f8eb"
      },
      "outputs": [
        {
          "data": {
            "text/plain": [
              "torch.Size([1, 6, 26, 26])"
            ]
          },
          "execution_count": 109,
          "metadata": {},
          "output_type": "execute_result"
        }
      ],
      "source": [
        "# 1 single image, 6 is the filters, 26x26\n",
        "x.shape # We didn't set padding so we lose 2 pixels around outside of the image"
      ]
    },
    {
      "cell_type": "code",
      "execution_count": null,
      "metadata": {
        "id": "2vvEOtc0-44K"
      },
      "outputs": [],
      "source": [
        "# pass thru the pooling layer\n",
        "x = F.max_pool2d(x,2,2)   # kernel of 2 and stride of 2"
      ]
    },
    {
      "cell_type": "code",
      "execution_count": null,
      "metadata": {
        "colab": {
          "base_uri": "https://localhost:8080/"
        },
        "id": "ScZJmNkx-5Sa",
        "outputId": "51a69c4f-5bb5-45e6-b647-70d1db062da5"
      },
      "outputs": [
        {
          "data": {
            "text/plain": [
              "torch.Size([1, 6, 13, 13])"
            ]
          },
          "execution_count": 111,
          "metadata": {},
          "output_type": "execute_result"
        }
      ],
      "source": [
        "x.shape  # 26 / 2 =13"
      ]
    },
    {
      "cell_type": "code",
      "execution_count": null,
      "metadata": {
        "id": "43tRdFQp-7iA"
      },
      "outputs": [],
      "source": [
        "# Do our second convolutional layer\n",
        "x = F.relu(conv2(x))"
      ]
    },
    {
      "cell_type": "code",
      "execution_count": null,
      "metadata": {
        "colab": {
          "base_uri": "https://localhost:8080/"
        },
        "id": "lz3HIsS5--Nj",
        "outputId": "a574b442-974e-4681-e484-016870fb46f4"
      },
      "outputs": [
        {
          "data": {
            "text/plain": [
              "torch.Size([1, 16, 11, 11])"
            ]
          },
          "execution_count": 113,
          "metadata": {},
          "output_type": "execute_result"
        }
      ],
      "source": [
        "x.shape # Again we didn't set padding so we lose 2 pixels around outside of the image\n"
      ]
    },
    {
      "cell_type": "code",
      "execution_count": null,
      "metadata": {
        "id": "bo9MjBhq_A10"
      },
      "outputs": [],
      "source": [
        "# Pooling layer\n",
        "x = F.max_pool2d(x,2,2)   # kernel of 2 and stride of 2"
      ]
    },
    {
      "cell_type": "code",
      "execution_count": null,
      "metadata": {
        "colab": {
          "base_uri": "https://localhost:8080/"
        },
        "id": "ytzx4sWp_DnG",
        "outputId": "0a4418c2-f16a-4a0c-f8f5-1bc6a7dde10f"
      },
      "outputs": [
        {
          "data": {
            "text/plain": [
              "torch.Size([1, 16, 5, 5])"
            ]
          },
          "execution_count": 115,
          "metadata": {},
          "output_type": "execute_result"
        }
      ],
      "source": [
        "x.shape    # 11 / 2 = 5.5 but we have to round down, because you can't invent data to round up\n"
      ]
    },
    {
      "cell_type": "code",
      "execution_count": null,
      "metadata": {
        "id": "YGb5MDAP_GII"
      },
      "outputs": [],
      "source": []
    },
    {
      "cell_type": "code",
      "execution_count": null,
      "metadata": {
        "id": "9R1X0_vK4ibC"
      },
      "outputs": [],
      "source": [
        "\"\"\"\n",
        "Defines a concise convolutional neural network model (Model) for Amharic letter classification.\n",
        "\"\"\"\n",
        "\n",
        "# Model class\n",
        "class Model(nn.Module):\n",
        "    def __init__(self,num_classes = 20):\n",
        "        super().__init__()\n",
        "        self.conv1 = nn.Conv2d(3, 6, kernel_size=3, stride=1)\n",
        "        self.pool1 = nn.MaxPool2d(kernel_size=2, stride=2)\n",
        "        self.conv2 = nn.Conv2d(6, 16, kernel_size=3, stride=1)\n",
        "        self.pool2 = nn.MaxPool2d(kernel_size=2, stride=2)\n",
        "        self.fc1 = nn.Linear(16 * 5 * 5, 128)\n",
        "        self.fc2 = nn.Linear(128, 64)\n",
        "        self.fc3 = nn.Linear(64, num_classes)\n",
        "\n",
        "    def forward(self, x):\n",
        "        # First pass\n",
        "        x = F.relu(self.conv1(x))\n",
        "        x = self.pool1(x)\n",
        "\n",
        "        # Second pass\n",
        "        x = F.relu(self.conv2(x))\n",
        "        x = self.pool2(x)\n",
        "\n",
        "        # Review to flatten it out\n",
        "        x = x.view(-1, 16*5*5) # -1 so that we can  vary the batch size\n",
        "\n",
        "        # Fully connected layers\n",
        "        x = F.relu(self.fc1(x))\n",
        "        x = F.relu(self.fc2(x))\n",
        "        x = self.fc3(x)\n",
        "\n",
        "        return F.log_softmax(x,dim=1)\n"
      ]
    },
    {
      "cell_type": "code",
      "execution_count": null,
      "metadata": {
        "colab": {
          "base_uri": "https://localhost:8080/"
        },
        "id": "X0TI0kjO4kN2",
        "outputId": "72f462d6-ed60-45c0-d69c-c27b80dcc029"
      },
      "outputs": [
        {
          "name": "stdout",
          "output_type": "stream",
          "text": [
            "Model(\n",
            "  (conv1): Conv2d(3, 6, kernel_size=(3, 3), stride=(1, 1))\n",
            "  (pool1): MaxPool2d(kernel_size=2, stride=2, padding=0, dilation=1, ceil_mode=False)\n",
            "  (conv2): Conv2d(6, 16, kernel_size=(3, 3), stride=(1, 1))\n",
            "  (pool2): MaxPool2d(kernel_size=2, stride=2, padding=0, dilation=1, ceil_mode=False)\n",
            "  (fc1): Linear(in_features=400, out_features=128, bias=True)\n",
            "  (fc2): Linear(in_features=128, out_features=64, bias=True)\n",
            "  (fc3): Linear(in_features=64, out_features=20, bias=True)\n",
            ")\n"
          ]
        }
      ],
      "source": [
        "\"\"\"\n",
        "Sets a manual seed for reproducibility and instantiates the defined model (Model) with 20 classes.\n",
        "Prints the architecture of the model.\n",
        "\"\"\"\n",
        "\n",
        "torch.manual_seed(97)\n",
        "\n",
        "# Instantiate the model\n",
        "model = Model(num_classes=20)\n",
        "\n",
        "# Print the model architecture\n",
        "print(model)\n"
      ]
    },
    {
      "cell_type": "code",
      "execution_count": null,
      "metadata": {
        "id": "GxaLdf1vjzpU"
      },
      "outputs": [],
      "source": []
    },
    {
      "cell_type": "code",
      "execution_count": null,
      "metadata": {
        "id": "S8MSRy8Y4qXQ"
      },
      "outputs": [],
      "source": [
        "\"\"\"\n",
        "Defines the loss function (CrossEntropyLoss) and optimizer (Adam) for training the model.\n",
        "\n",
        "Parameters:\n",
        "- Loss function: CrossEntropyLoss.\n",
        "- Optimizer: Adam with a learning rate of 0.01.\n",
        "\"\"\"\n",
        "\n",
        "criterion = nn.CrossEntropyLoss()\n",
        "optimizer = optim.Adam(model.parameters(),lr=0.01)"
      ]
    },
    {
      "cell_type": "code",
      "execution_count": 118,
      "metadata": {
        "id": "UFvzNlR6CoJ5"
      },
      "outputs": [],
      "source": [
        "\n"
      ]
    },
    {
      "cell_type": "code",
      "execution_count": 119,
      "metadata": {
        "colab": {
          "base_uri": "https://localhost:8080/"
        },
        "id": "s2mMBm2WC7xh",
        "outputId": "069133c6-6451-4443-8825-5c544ceb78f1"
      },
      "outputs": [
        {
          "output_type": "stream",
          "name": "stdout",
          "text": [
            "Epoch 1, Batch 50, Loss: 2.8008\n",
            "Epoch 1, Batch 100, Loss: 1.3168\n",
            "Epoch 1, Batch 150, Loss: 1.5518\n",
            "Epoch 1, Training Accuracy: 37.22 % , Test Accuracy: 65.22 %\n",
            "Epoch 2, Batch 50, Loss: 1.5362\n",
            "Epoch 2, Batch 100, Loss: 0.5758\n",
            "Epoch 2, Batch 150, Loss: 0.6202\n",
            "Epoch 2, Training Accuracy: 69.19 % , Test Accuracy: 69.56 %\n",
            "Epoch 3, Batch 50, Loss: 0.1629\n",
            "Epoch 3, Batch 100, Loss: 1.1156\n",
            "Epoch 3, Batch 150, Loss: 0.8237\n",
            "Epoch 3, Training Accuracy: 75.42 % , Test Accuracy: 80.67 %\n",
            "Epoch 4, Batch 50, Loss: 0.5768\n",
            "Epoch 4, Batch 100, Loss: 0.5894\n",
            "Epoch 4, Batch 150, Loss: 0.5269\n",
            "Epoch 4, Training Accuracy: 78.42 % , Test Accuracy: 78.89 %\n",
            "Epoch 5, Batch 50, Loss: 0.9362\n",
            "Epoch 5, Batch 100, Loss: 0.7826\n",
            "Epoch 5, Batch 150, Loss: 0.6130\n",
            "Epoch 5, Training Accuracy: 80.83 % , Test Accuracy: 78.78 %\n",
            "Epoch 6, Batch 50, Loss: 0.7672\n",
            "Epoch 6, Batch 100, Loss: 0.7554\n",
            "Epoch 6, Batch 150, Loss: 0.6917\n",
            "Epoch 6, Training Accuracy: 81.61 % , Test Accuracy: 81.33 %\n",
            "Epoch 7, Batch 50, Loss: 0.7987\n",
            "Epoch 7, Batch 100, Loss: 0.4858\n",
            "Epoch 7, Batch 150, Loss: 0.1888\n",
            "Epoch 7, Training Accuracy: 83.64 % , Test Accuracy: 81.33 %\n",
            "Epoch 8, Batch 50, Loss: 0.9399\n",
            "Epoch 8, Batch 100, Loss: 0.1798\n",
            "Epoch 8, Batch 150, Loss: 0.5906\n",
            "Epoch 8, Training Accuracy: 85.42 % , Test Accuracy: 82.44 %\n",
            "Epoch 9, Batch 50, Loss: 0.5229\n",
            "Epoch 9, Batch 100, Loss: 0.2039\n",
            "Epoch 9, Batch 150, Loss: 0.4815\n",
            "Epoch 9, Training Accuracy: 86.11 % , Test Accuracy: 83.44 %\n",
            "Epoch 10, Batch 50, Loss: 0.7866\n",
            "Epoch 10, Batch 100, Loss: 0.0146\n",
            "Epoch 10, Batch 150, Loss: 0.2962\n",
            "Epoch 10, Training Accuracy: 86.36 % , Test Accuracy: 81.00 %\n",
            "Finished Training\n",
            "Training took: 2.3239243427912393 minutes!\n"
          ]
        }
      ],
      "source": [
        "import time\n",
        "start_time = time.time()\n",
        "\n",
        "# Training parameters\n",
        "epochs = 10\n",
        "train_losses = []\n",
        "test_losses = []\n",
        "train_correct = []\n",
        "test_correct = []\n",
        "\n",
        "# Training loop\n",
        "for epoch in range(epochs):\n",
        "    trn_corr = 0\n",
        "    tst_corr = 0\n",
        "    train_total = 0\n",
        "    model.train()  # Set the model to training mode\n",
        "\n",
        "    # Train\n",
        "    for batch, (X_train, y_train) in enumerate(train_loader):\n",
        "        batch += 1\n",
        "\n",
        "        optimizer.zero_grad() # Zero the gradients\n",
        "        y_pred = model(X_train)  # Forward pass\n",
        "        _, y_train = y_train.max(dim=1)\n",
        "        loss = criterion(y_pred, y_train)  # Compute the loss\n",
        "\n",
        "        predicted = torch.max(y_pred.data,1)[1]  # add up the number of correct predictions\n",
        "        batch_corr = (predicted == y_train).sum()  # how many we got correct from this batch.\n",
        "        trn_corr += batch_corr  # keep track as we go along in training.\n",
        "        train_total += y_train.size(0)\n",
        "\n",
        "\n",
        "        loss.backward()  # Backward pass\n",
        "        optimizer.step()  # Update the weights\n",
        "\n",
        "\n",
        "        # Print statistics every 50 batches\n",
        "        if not (batch % 50):\n",
        "            print(f'Epoch {epoch + 1}, Batch {batch}, Loss: {loss.item():.4f}')\n",
        "\n",
        "    train_accuracy = 100 * trn_corr / train_total\n",
        "\n",
        "    train_losses.append(loss)\n",
        "    train_correct.append(trn_corr)\n",
        "\n",
        "    # Test\n",
        "    model.eval() # Set the model to testing mode\n",
        "    test_total = 0\n",
        "    with torch.no_grad(): # no gradient so we don't update our weights and biases with test data\n",
        "      for batch, (X_test,y_test) in enumerate(test_loader):\n",
        "          y_val = model(X_test)\n",
        "          predicted = torch.max(y_val.data,1)[1]  # Adding up correct predictions\n",
        "          _, y_test = y_test.max(dim=1)\n",
        "          test_total += y_test.size(0)\n",
        "          tst_corr += (predicted == y_test).sum()\n",
        "\n",
        "    loss = criterion(y_val,y_test)\n",
        "    test_losses.append(loss)\n",
        "    test_correct.append(tst_corr)\n",
        "\n",
        "    test_accuracy = 100 * tst_corr / test_total\n",
        "\n",
        "    print(f'Epoch {epoch + 1}, Training Accuracy: {train_accuracy:.2f} % , Test Accuracy: {test_accuracy:.2f} %')\n",
        "\n",
        "\n",
        "# Training complete\n",
        "print('Finished Training')\n",
        "\n",
        "current_time = time.time()\n",
        "total = current_time - start_time\n",
        "print(f\"Training took: {total/60} minutes!\")"
      ]
    },
    {
      "cell_type": "code",
      "execution_count": 121,
      "metadata": {
        "colab": {
          "base_uri": "https://localhost:8080/"
        },
        "id": "TR4zGogRDCJP",
        "outputId": "87622ca8-f916-4a13-d2d9-eb80f490ed0d"
      },
      "outputs": [
        {
          "output_type": "stream",
          "name": "stdout",
          "text": [
            "Accuracy on the test set: 81.00%\n"
          ]
        }
      ],
      "source": [
        "\"\"\"\n",
        "Tests the trained model on the test dataset and prints the accuracy.\n",
        "\"\"\"\n",
        "\n",
        "# Test\n",
        "correct = 0\n",
        "total = 0\n",
        "model.eval()\n",
        "\n",
        "with torch.no_grad(): # no gradient so we don't update our weights and biases with test data\n",
        "  for X_test,y_test in test_loader:\n",
        "      y_val = model(X_test)\n",
        "      predicted = torch.max(y_val.data,1)[1]  # Adding up correct predictions\n",
        "      _, y_test = y_test.max(dim=1)\n",
        "      total += y_test.size(0)\n",
        "      correct += (predicted == y_test).sum()\n",
        "\n",
        "accuracy = correct / total * 100\n",
        "\n",
        "print(f'Accuracy on the test set: {accuracy:.2f}%')"
      ]
    },
    {
      "cell_type": "code",
      "source": [
        "# Saves the model's state_dict to a file named 'amharic_letter_classification_model.pth'\n",
        "\n",
        "torch.save(model.state_dict(), 'amharic_letter_classification_model.pth')\n",
        "\n",
        "# Load the saved state_dict\n",
        "model.load_state_dict(torch.load('/content/amharic_letter_classification_model.pth'))\n",
        "\n",
        "# Now, 'model' is loaded with the parameters saved in 'amharic_letter_classification_model.pth'\n",
        "# I can use 'model' for inference as you would with the original model.\n"
      ],
      "metadata": {
        "colab": {
          "base_uri": "https://localhost:8080/"
        },
        "id": "R4mOto2So7O6",
        "outputId": "4cb0eeb8-9834-4d3b-8818-75db44068864"
      },
      "execution_count": 122,
      "outputs": [
        {
          "output_type": "execute_result",
          "data": {
            "text/plain": [
              "<All keys matched successfully>"
            ]
          },
          "metadata": {},
          "execution_count": 122
        }
      ]
    },
    {
      "cell_type": "code",
      "execution_count": 123,
      "metadata": {
        "colab": {
          "base_uri": "https://localhost:8080/"
        },
        "id": "Qc2nhCrS2_mR",
        "outputId": "2c476e70-f699-4d77-cd82-5f2127c5624a"
      },
      "outputs": [
        {
          "output_type": "stream",
          "name": "stdout",
          "text": [
            "[tensor(1.3335, grad_fn=<NllLossBackward0>), tensor(1.3098, grad_fn=<NllLossBackward0>), tensor(0.5260, grad_fn=<NllLossBackward0>), tensor(0.7631, grad_fn=<NllLossBackward0>), tensor(1.5034, grad_fn=<NllLossBackward0>), tensor(0.9136, grad_fn=<NllLossBackward0>), tensor(0.7599, grad_fn=<NllLossBackward0>), tensor(0.1863, grad_fn=<NllLossBackward0>), tensor(0.6889, grad_fn=<NllLossBackward0>), tensor(0.8494, grad_fn=<NllLossBackward0>)]\n",
            "[tensor(1.1185), tensor(1.0162), tensor(0.6326), tensor(0.7099), tensor(0.8054), tensor(0.8312), tensor(0.7538), tensor(0.7062), tensor(0.5485), tensor(0.7136)]\n"
          ]
        }
      ],
      "source": [
        "# Prints the lists of training and testing losses\n",
        "\n",
        "print(train_losses)\n",
        "print(test_losses)"
      ]
    },
    {
      "cell_type": "code",
      "execution_count": 124,
      "metadata": {
        "id": "T7yHdYs167Qr"
      },
      "outputs": [],
      "source": [
        "# Converts the training losses from PyTorch tensors to Python floats\n",
        "\n",
        "train_loss = [tl.item() for tl in train_losses]"
      ]
    },
    {
      "cell_type": "code",
      "execution_count": 125,
      "metadata": {
        "colab": {
          "base_uri": "https://localhost:8080/"
        },
        "id": "-UnKctCq7CWc",
        "outputId": "e781133d-b90a-49a0-9386-68d76c8a9ae2"
      },
      "outputs": [
        {
          "output_type": "stream",
          "name": "stdout",
          "text": [
            "[1.3335224390029907, 1.309844970703125, 0.5260339975357056, 0.7631380558013916, 1.5033974647521973, 0.9135690927505493, 0.7598578929901123, 0.18633101880550385, 0.6888524293899536, 0.8493749499320984]\n",
            "[tensor(1.1185), tensor(1.0162), tensor(0.6326), tensor(0.7099), tensor(0.8054), tensor(0.8312), tensor(0.7538), tensor(0.7062), tensor(0.5485), tensor(0.7136)]\n"
          ]
        }
      ],
      "source": [
        "# Prints the lists of training loss (converted to Python floats) and testing losses\n",
        "\n",
        "print(train_loss)\n",
        "print(test_losses)"
      ]
    },
    {
      "cell_type": "code",
      "execution_count": 126,
      "metadata": {
        "colab": {
          "base_uri": "https://localhost:8080/",
          "height": 469
        },
        "id": "VIf2VBoQDenw",
        "outputId": "8e631b31-83fe-4091-ff8f-fccbfe57a576"
      },
      "outputs": [
        {
          "output_type": "execute_result",
          "data": {
            "text/plain": [
              "<matplotlib.legend.Legend at 0x7e1131be1300>"
            ]
          },
          "metadata": {},
          "execution_count": 126
        },
        {
          "output_type": "display_data",
          "data": {
            "text/plain": [
              "<Figure size 640x480 with 1 Axes>"
            ],
            "image/png": "[encoded data removed]"
          },
          "metadata": {}
        }
      ],
      "source": [
        "# Plots the training and validation losses over epochs\n",
        "\n",
        "plt.plot(train_loss,label=\"Training Loss\")\n",
        "plt.plot(test_losses,label=\"Validation Loss\")\n",
        "plt.title(\"Loss at Epoch\")\n",
        "plt.legend()"
      ]
    },
    {
      "cell_type": "code",
      "execution_count": 127,
      "metadata": {
        "colab": {
          "base_uri": "https://localhost:8080/"
        },
        "id": "Qp-6_HKN4JFA",
        "outputId": "098407f0-bda8-4f20-e114-f3451aa706b2"
      },
      "outputs": [
        {
          "output_type": "stream",
          "name": "stdout",
          "text": [
            "[tensor(1340), tensor(2491), tensor(2715), tensor(2823), tensor(2910), tensor(2938), tensor(3011), tensor(3075), tensor(3100), tensor(3109)]\n",
            "[tensor(587), tensor(626), tensor(726), tensor(710), tensor(709), tensor(732), tensor(732), tensor(742), tensor(751), tensor(729)]\n"
          ]
        }
      ],
      "source": [
        "# Prints the number of correct predictions for training and testing sets\n",
        "\n",
        "print(train_correct)\n",
        "print(test_correct)"
      ]
    },
    {
      "cell_type": "code",
      "execution_count": 128,
      "metadata": {
        "colab": {
          "base_uri": "https://localhost:8080/",
          "height": 489
        },
        "id": "QJMhB2rlUlTk",
        "outputId": "7354510c-c4bf-4160-c7e9-989f36275045"
      },
      "outputs": [
        {
          "output_type": "execute_result",
          "data": {
            "text/plain": [
              "<matplotlib.legend.Legend at 0x7e111979b6a0>"
            ]
          },
          "metadata": {},
          "execution_count": 128
        },
        {
          "output_type": "display_data",
          "data": {
            "text/plain": [
              "<Figure size 640x480 with 1 Axes>"
            ],
            "image/png": "[encoded data removed]"
          },
          "metadata": {}
        }
      ],
      "source": [
        "# Plots the training and validation accuracies at the end of each epoch\n",
        "\n",
        "plt.plot([t/3600*100 for t in train_correct],label=\"Training Accuracy\")\n",
        "plt.plot([t/900*100 for t in test_correct],label=\"Validation Accuracy\")\n",
        "plt.title('Accuracy at the end of each Epoch')\n",
        "plt.xlabel('Epoch')\n",
        "plt.ylabel('Accuracy (%)')\n",
        "plt.legend()\n",
        "plt.legend()"
      ]
    },
    {
      "cell_type": "code",
      "execution_count": 129,
      "metadata": {
        "id": "-wwIjkWeUtD-"
      },
      "outputs": [],
      "source": [
        "# Creates a DataLoader for the entire test dataset with a batch size of 360(total test dataset) and no shuffling\n",
        "\n",
        "test_load_everything = DataLoader(test_dataset,batch_size=360,shuffle=False)"
      ]
    },
    {
      "cell_type": "code",
      "execution_count": 130,
      "metadata": {
        "id": "EFb7jmP3U0VU"
      },
      "outputs": [],
      "source": [
        "# Tests the trained model on the entire test dataset without gradient computation\n",
        "\n",
        "with torch.no_grad():\n",
        "  correct = 0\n",
        "  for X_test, y_test in test_load_everything:\n",
        "    y_val = model(X_test)\n",
        "    predicted = torch.max(y_val,1)[1]\n",
        "    _, y_test = y_test.max(dim=1)\n",
        "    correct += (predicted == y_test).sum()"
      ]
    },
    {
      "cell_type": "code",
      "execution_count": 131,
      "metadata": {
        "colab": {
          "base_uri": "https://localhost:8080/"
        },
        "id": "iOomCUzlU-Kr",
        "outputId": "0535bc23-ce32-434c-8df0-7a5b57704311"
      },
      "outputs": [
        {
          "output_type": "stream",
          "name": "stdout",
          "text": [
            "Accuracy on the test set: 81.00%\n"
          ]
        }
      ],
      "source": [
        "# Calculates the overall accuracy on the entire test dataset\n",
        "\n",
        "accuracy_overall = correct.item() / len(test_dataset) * 100\n",
        "print(f'Accuracy on the test set: {accuracy_overall:.2f}%')"
      ]
    },
    {
      "cell_type": "code",
      "execution_count": 132,
      "metadata": {
        "colab": {
          "base_uri": "https://localhost:8080/"
        },
        "id": "UTcV7C2jVRnn",
        "outputId": "ffc42dd9-8aab-42fd-f223-85da84c1ab2b"
      },
      "outputs": [
        {
          "output_type": "execute_result",
          "data": {
            "text/plain": [
              "(tensor([[[0.0039, 0.0000, 0.0000,  ..., 0.0000, 0.0039, 0.0000],\n",
              "          [0.0000, 0.0078, 0.0000,  ..., 0.0000, 0.0000, 0.0078],\n",
              "          [0.0000, 0.0078, 0.0000,  ..., 0.0000, 0.0000, 0.0039],\n",
              "          ...,\n",
              "          [0.0000, 0.0157, 0.0118,  ..., 0.4078, 0.0118, 0.0000],\n",
              "          [0.0000, 0.0000, 0.0000,  ..., 0.0000, 0.0118, 0.0078],\n",
              "          [0.0078, 0.0000, 0.0000,  ..., 0.0039, 0.0000, 0.0039]],\n",
              " \n",
              "         [[0.0039, 0.0000, 0.0000,  ..., 0.0000, 0.0039, 0.0000],\n",
              "          [0.0000, 0.0078, 0.0000,  ..., 0.0000, 0.0000, 0.0078],\n",
              "          [0.0000, 0.0078, 0.0000,  ..., 0.0000, 0.0000, 0.0039],\n",
              "          ...,\n",
              "          [0.0000, 0.0157, 0.0118,  ..., 0.4078, 0.0118, 0.0000],\n",
              "          [0.0000, 0.0000, 0.0000,  ..., 0.0000, 0.0118, 0.0078],\n",
              "          [0.0078, 0.0000, 0.0000,  ..., 0.0039, 0.0000, 0.0039]],\n",
              " \n",
              "         [[0.0039, 0.0000, 0.0000,  ..., 0.0000, 0.0039, 0.0000],\n",
              "          [0.0000, 0.0078, 0.0000,  ..., 0.0000, 0.0000, 0.0078],\n",
              "          [0.0000, 0.0078, 0.0000,  ..., 0.0000, 0.0000, 0.0039],\n",
              "          ...,\n",
              "          [0.0000, 0.0157, 0.0118,  ..., 0.4078, 0.0118, 0.0000],\n",
              "          [0.0000, 0.0000, 0.0000,  ..., 0.0000, 0.0118, 0.0078],\n",
              "          [0.0078, 0.0000, 0.0000,  ..., 0.0039, 0.0000, 0.0039]]]),\n",
              " tensor([0., 0., 0., 0., 0., 0., 0., 1., 0., 0., 0., 0., 0., 0., 0., 0., 0., 0.,\n",
              "         0., 0.]))"
            ]
          },
          "metadata": {},
          "execution_count": 132
        }
      ],
      "source": [
        "# Grab an image\n",
        "\n",
        "test_dataset[300]   # Tensor with an image in it...at end it shows the label"
      ]
    },
    {
      "cell_type": "code",
      "execution_count": 133,
      "metadata": {
        "colab": {
          "base_uri": "https://localhost:8080/"
        },
        "id": "Dky4Yo6p_hSr",
        "outputId": "11ee2afa-f143-47d2-f7ce-b65c0c275698"
      },
      "outputs": [
        {
          "output_type": "execute_result",
          "data": {
            "text/plain": [
              "tensor([[[0., 0., 0.,  ..., 0., 0., 0.],\n",
              "         [0., 0., 0.,  ..., 0., 0., 0.],\n",
              "         [0., 0., 0.,  ..., 0., 0., 0.],\n",
              "         ...,\n",
              "         [0., 0., 0.,  ..., 0., 0., 0.],\n",
              "         [0., 0., 0.,  ..., 0., 0., 0.],\n",
              "         [0., 0., 0.,  ..., 0., 0., 0.]],\n",
              "\n",
              "        [[0., 0., 0.,  ..., 0., 0., 0.],\n",
              "         [0., 0., 0.,  ..., 0., 0., 0.],\n",
              "         [0., 0., 0.,  ..., 0., 0., 0.],\n",
              "         ...,\n",
              "         [0., 0., 0.,  ..., 0., 0., 0.],\n",
              "         [0., 0., 0.,  ..., 0., 0., 0.],\n",
              "         [0., 0., 0.,  ..., 0., 0., 0.]],\n",
              "\n",
              "        [[0., 0., 0.,  ..., 0., 0., 0.],\n",
              "         [0., 0., 0.,  ..., 0., 0., 0.],\n",
              "         [0., 0., 0.,  ..., 0., 0., 0.],\n",
              "         ...,\n",
              "         [0., 0., 0.,  ..., 0., 0., 0.],\n",
              "         [0., 0., 0.,  ..., 0., 0., 0.],\n",
              "         [0., 0., 0.,  ..., 0., 0., 0.]]])"
            ]
          },
          "metadata": {},
          "execution_count": 133
        }
      ],
      "source": [
        "# Grab just the data\n",
        "\n",
        "test_dataset[200][0]"
      ]
    },
    {
      "cell_type": "code",
      "execution_count": 137,
      "metadata": {
        "colab": {
          "base_uri": "https://localhost:8080/",
          "height": 447
        },
        "id": "_seYzURg_o5A",
        "outputId": "5bbf20ca-2155-4dc3-a485-8ed33a5009b0"
      },
      "outputs": [
        {
          "output_type": "execute_result",
          "data": {
            "text/plain": [
              "<matplotlib.image.AxesImage at 0x7e1117609f90>"
            ]
          },
          "metadata": {},
          "execution_count": 137
        },
        {
          "output_type": "display_data",
          "data": {
            "text/plain": [
              "<Figure size 640x480 with 1 Axes>"
            ],
            "image/png": "[encoded data removed]"
          },
          "metadata": {}
        }
      ],
      "source": [
        "# Displays an image from the test dataset using matplotlib\n",
        "\n",
        "plt.imshow(test_dataset[222][0].permute(1, 2, 0).numpy(), cmap='gray_r')"
      ]
    },
    {
      "cell_type": "code",
      "execution_count": 141,
      "metadata": {
        "id": "1zXvdequ_r2r"
      },
      "outputs": [],
      "source": [
        "# Sets the model to evaluation mode and makes a prediction on a single image from the test dataset\n",
        "\n",
        "model.eval()\n",
        "with torch.no_grad():\n",
        "  new_prediction = model(test_dataset[222][0].view(1,3,28,28))"
      ]
    },
    {
      "cell_type": "code",
      "execution_count": 142,
      "metadata": {
        "colab": {
          "base_uri": "https://localhost:8080/",
          "height": 35
        },
        "id": "hBwjNIDsAlsA",
        "outputId": "bfd2fdb7-7e2b-4bbb-a3ac-0eb8ac1a88df"
      },
      "outputs": [
        {
          "output_type": "execute_result",
          "data": {
            "text/plain": [
              "'ሰ'"
            ],
            "application/vnd.google.colaboratory.intrinsic+json": {
              "type": "string"
            }
          },
          "metadata": {},
          "execution_count": 142
        }
      ],
      "source": [
        "# Retrieves the predicted class label based on the maximum probability\n",
        "\n",
        "classes[new_prediction.argmax()]"
      ]
    },
    {
      "cell_type": "code",
      "execution_count": 143,
      "metadata": {
        "id": "XS2_gv_EAoSW"
      },
      "outputs": [],
      "source": [
        "\"\"\"\n",
        "Defines a concise function (Prediction) to make predictions on a specific image from the test dataset.\n",
        "\"\"\"\n",
        "\n",
        "def Prediction(test_dataset,ind):\n",
        "    model.eval()\n",
        "    with torch.no_grad():\n",
        "        plt.imshow(test_dataset[ind][0].permute(1, 2, 0).numpy(), cmap='gray_r')\n",
        "        new_prediction = model(test_dataset[ind][0].view(1, 3, 28, 28))\n",
        "        predicted_class = classes[new_prediction.argmax()]\n",
        "        print('Predicted:', predicted_class)"
      ]
    },
    {
      "cell_type": "code",
      "execution_count": 144,
      "metadata": {
        "colab": {
          "base_uri": "https://localhost:8080/",
          "height": 447
        },
        "id": "3-I7CHl3BsvL",
        "outputId": "aaf11348-9a77-4c0a-bdbb-1f61a683d1dd"
      },
      "outputs": [
        {
          "output_type": "stream",
          "name": "stdout",
          "text": [
            "Predicted: የ\n"
          ]
        },
        {
          "output_type": "display_data",
          "data": {
            "text/plain": [
              "<Figure size 640x480 with 1 Axes>"
            ],
            "image/png": "[encoded data removed]"
          },
          "metadata": {}
        }
      ],
      "source": [
        "# Calls the Prediction function on the test dataset with image index 10\n",
        "\n",
        "Prediction(test_dataset,10)"
      ]
    },
    {
      "cell_type": "code",
      "execution_count": 144,
      "metadata": {
        "id": "nkl54S0FJcik"
      },
      "outputs": [],
      "source": []
    },
    {
      "cell_type": "code",
      "execution_count": 147,
      "metadata": {
        "colab": {
          "base_uri": "https://localhost:8080/",
          "height": 447
        },
        "id": "jvIRdsjrC5xJ",
        "outputId": "7dd00d07-f1cb-4414-d755-b616b7d7e58b"
      },
      "outputs": [
        {
          "output_type": "stream",
          "name": "stdout",
          "text": [
            "Predicted: ፀ\n"
          ]
        },
        {
          "output_type": "display_data",
          "data": {
            "text/plain": [
              "<Figure size 640x480 with 1 Axes>"
            ],
            "image/png": "[encoded data removed]"
          },
          "metadata": {}
        }
      ],
      "source": [
        "Prediction(test_dataset,105)"
      ]
    },
    {
      "cell_type": "code",
      "execution_count": 148,
      "metadata": {
        "colab": {
          "base_uri": "https://localhost:8080/",
          "height": 447
        },
        "id": "sCqjcinkJfo7",
        "outputId": "3ac84b25-db69-44b3-9def-3ae118a5c629"
      },
      "outputs": [
        {
          "output_type": "stream",
          "name": "stdout",
          "text": [
            "Predicted: ሸ\n"
          ]
        },
        {
          "output_type": "display_data",
          "data": {
            "text/plain": [
              "<Figure size 640x480 with 1 Axes>"
            ],
            "image/png": "[encoded data removed]"
          },
          "metadata": {}
        }
      ],
      "source": [
        "Prediction(test_dataset,60)"
      ]
    },
    {
      "cell_type": "code",
      "execution_count": 151,
      "metadata": {
        "colab": {
          "base_uri": "https://localhost:8080/",
          "height": 447
        },
        "id": "JeQbDRNXG6aD",
        "outputId": "f58a394e-75b1-4fca-8277-7221ff0d666a"
      },
      "outputs": [
        {
          "output_type": "stream",
          "name": "stdout",
          "text": [
            "Predicted: ሀ\n"
          ]
        },
        {
          "output_type": "display_data",
          "data": {
            "text/plain": [
              "<Figure size 640x480 with 1 Axes>"
            ],
            "image/png": "[encoded data removed]"
          },
          "metadata": {}
        }
      ],
      "source": [
        "Prediction(test_dataset,144)"
      ]
    },
    {
      "cell_type": "code",
      "execution_count": 152,
      "metadata": {
        "id": "7tOiSqOJG_dW"
      },
      "outputs": [],
      "source": [
        "# Sets the model to evaluation mode and predicts classes for all samples in the test dataset\n",
        "\n",
        "model.eval()  # Set the model to evaluation mode\n",
        "y_pred_list = []\n",
        "\n",
        "with torch.no_grad():\n",
        "    for i in range(len(test_dataset)):\n",
        "        X_test, y_test = test_dataset[i]\n",
        "        X_test = X_test.view(1, 3, 28, 28)  #\n",
        "        y_val = model(X_test)\n",
        "        _, y_pred = torch.max(y_val, 1)\n",
        "        y_pred_list.append(y_pred.item())\n",
        "\n",
        "y_classes = y_pred_list"
      ]
    },
    {
      "cell_type": "code",
      "execution_count": 153,
      "metadata": {
        "colab": {
          "base_uri": "https://localhost:8080/"
        },
        "id": "uECWKPeRKHgd",
        "outputId": "ca773e2a-8d22-4800-e7e4-6a7b8ce82d1a"
      },
      "outputs": [
        {
          "output_type": "execute_result",
          "data": {
            "text/plain": [
              "[4, 12, 1, 10, 8, 11, 8, 1, 16, 0, 14, 12, 4, 6, 5, 2, 3, 2, 18, 18]"
            ]
          },
          "metadata": {},
          "execution_count": 153
        }
      ],
      "source": [
        "# Prints the predicted classes for the first 20 samples in the test dataset\n",
        "\n",
        "y_classes[:20]"
      ]
    },
    {
      "cell_type": "code",
      "execution_count": null,
      "metadata": {
        "id": "dJ45icmmKKDK"
      },
      "outputs": [],
      "source": []
    },
    {
      "cell_type": "code",
      "execution_count": null,
      "metadata": {
        "id": "f6sTpp2vU4wz"
      },
      "outputs": [],
      "source": []
    },
    {
      "cell_type": "markdown",
      "metadata": {
        "id": "8bWOmMOqU5VN"
      },
      "source": [
        "# **Thank you!**"
      ]
    },
    {
      "cell_type": "markdown",
      "metadata": {
        "id": "rx0mmo_4VtxC"
      },
      "source": [
        "### **Muluken Hakim Ayansa**\n",
        "\n"
      ]
    },
    {
      "cell_type": "code",
      "execution_count": null,
      "metadata": {
        "id": "v0VenWm7U8rw"
      },
      "outputs": [],
      "source": []
    }
  ],
  "metadata": {
    "accelerator": "GPU",
    "colab": {
      "provenance": []
    },
    "kernelspec": {
      "display_name": "Python 3",
      "name": "python3"
    },
    "language_info": {
      "name": "python"
    }
  },
  "nbformat": 4,
  "nbformat_minor": 0
}